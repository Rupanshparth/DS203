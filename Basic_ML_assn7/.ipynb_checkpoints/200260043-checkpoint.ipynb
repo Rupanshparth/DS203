{
 "cells": [
  {
   "cell_type": "markdown",
   "id": "a340ae75",
   "metadata": {},
   "source": [
    "### Question 1\n",
    "#### Part a\n",
    "Here we can perform dimensionality reduction as performance in some of the courses might be correlated. If there is no correlation then the probolem can be regarded as a clustering problem. Input variables are performances in different courses adn output is a grade on the scale 1 to 5\n",
    "#### Part b\n",
    "It's a unsupervised learning problem that can be solved using clustering. The input will contain instances with performance of students in various courses and extra-curricular activities and the output will be classification into some personality groups. Similar input instances will be grouped together.\n",
    "#### Part c\n",
    "It's a regression problem as the salary can vary continuosly depending on the inputs. The inputs will be performance of the students in various courses, performance in extra-curriculars and their first job type. The output will be salary, a continuous variable.\n",
    "#### Part d\n",
    "It's a classification problem. Input variables will be performance in different courses and extra-curricular activities."
   ]
  },
  {
   "cell_type": "markdown",
   "id": "024a1b7a",
   "metadata": {},
   "source": [
    "### Question 2"
   ]
  },
  {
   "cell_type": "code",
   "execution_count": 49,
   "id": "9e9fed76",
   "metadata": {},
   "outputs": [],
   "source": [
    "# Importing libraries\n",
    "import numpy as np\n",
    "import math\n",
    "import pandas as pd\n",
    "import matplotlib.pyplot as plt\n",
    "%matplotlib inline\n",
    "\n",
    "from sklearn.preprocessing import OneHotEncoder, StandardScaler\n",
    "from sklearn.compose import ColumnTransformer\n",
    "from sklearn.model_selection import GridSearchCV, cross_validate\n",
    "from sklearn.svm import SVR, SVC\n",
    "from sklearn.metrics import accuracy_score, f1_score\n",
    "from sklearn.ensemble import RandomForestRegressor, RandomForestClassifier"
   ]
  },
  {
   "cell_type": "code",
   "execution_count": 2,
   "id": "fbba0c16",
   "metadata": {},
   "outputs": [
    {
     "data": {
      "text/html": [
       "<div>\n",
       "<style scoped>\n",
       "    .dataframe tbody tr th:only-of-type {\n",
       "        vertical-align: middle;\n",
       "    }\n",
       "\n",
       "    .dataframe tbody tr th {\n",
       "        vertical-align: top;\n",
       "    }\n",
       "\n",
       "    .dataframe thead th {\n",
       "        text-align: right;\n",
       "    }\n",
       "</style>\n",
       "<table border=\"1\" class=\"dataframe\">\n",
       "  <thead>\n",
       "    <tr style=\"text-align: right;\">\n",
       "      <th></th>\n",
       "      <th>title</th>\n",
       "      <th>title_orig</th>\n",
       "      <th>price</th>\n",
       "      <th>retail_price</th>\n",
       "      <th>currency_buyer</th>\n",
       "      <th>units_sold</th>\n",
       "      <th>uses_ad_boosts</th>\n",
       "      <th>rating</th>\n",
       "      <th>rating_count</th>\n",
       "      <th>rating_five_count</th>\n",
       "      <th>...</th>\n",
       "      <th>merchant_rating_count</th>\n",
       "      <th>merchant_rating</th>\n",
       "      <th>merchant_id</th>\n",
       "      <th>merchant_has_profile_picture</th>\n",
       "      <th>merchant_profile_picture</th>\n",
       "      <th>product_url</th>\n",
       "      <th>product_picture</th>\n",
       "      <th>product_id</th>\n",
       "      <th>theme</th>\n",
       "      <th>crawl_month</th>\n",
       "    </tr>\n",
       "  </thead>\n",
       "  <tbody>\n",
       "    <tr>\n",
       "      <th>0</th>\n",
       "      <td>2020 Summer Vintage Flamingo Print  Pajamas Se...</td>\n",
       "      <td>2020 Summer Vintage Flamingo Print  Pajamas Se...</td>\n",
       "      <td>16.00</td>\n",
       "      <td>14</td>\n",
       "      <td>EUR</td>\n",
       "      <td>100</td>\n",
       "      <td>0</td>\n",
       "      <td>3.76</td>\n",
       "      <td>54</td>\n",
       "      <td>26.0</td>\n",
       "      <td>...</td>\n",
       "      <td>568</td>\n",
       "      <td>4.128521</td>\n",
       "      <td>595097d6a26f6e070cb878d1</td>\n",
       "      <td>0</td>\n",
       "      <td>NaN</td>\n",
       "      <td>https://www.wish.com/c/5e9ae51d43d6a96e303acdb0</td>\n",
       "      <td>https://contestimg.wish.com/api/webimage/5e9ae...</td>\n",
       "      <td>5e9ae51d43d6a96e303acdb0</td>\n",
       "      <td>summer</td>\n",
       "      <td>2020-08</td>\n",
       "    </tr>\n",
       "    <tr>\n",
       "      <th>1</th>\n",
       "      <td>SSHOUSE Summer Casual Sleeveless Soirée Party ...</td>\n",
       "      <td>Women's Casual Summer Sleeveless Sexy Mini Dress</td>\n",
       "      <td>8.00</td>\n",
       "      <td>22</td>\n",
       "      <td>EUR</td>\n",
       "      <td>20000</td>\n",
       "      <td>1</td>\n",
       "      <td>3.45</td>\n",
       "      <td>6135</td>\n",
       "      <td>2269.0</td>\n",
       "      <td>...</td>\n",
       "      <td>17752</td>\n",
       "      <td>3.899673</td>\n",
       "      <td>56458aa03a698c35c9050988</td>\n",
       "      <td>0</td>\n",
       "      <td>NaN</td>\n",
       "      <td>https://www.wish.com/c/58940d436a0d3d5da4e95a38</td>\n",
       "      <td>https://contestimg.wish.com/api/webimage/58940...</td>\n",
       "      <td>58940d436a0d3d5da4e95a38</td>\n",
       "      <td>summer</td>\n",
       "      <td>2020-08</td>\n",
       "    </tr>\n",
       "    <tr>\n",
       "      <th>2</th>\n",
       "      <td>2020 Nouvelle Arrivée Femmes Printemps et Été ...</td>\n",
       "      <td>2020 New Arrival Women Spring and Summer Beach...</td>\n",
       "      <td>8.00</td>\n",
       "      <td>43</td>\n",
       "      <td>EUR</td>\n",
       "      <td>100</td>\n",
       "      <td>0</td>\n",
       "      <td>3.57</td>\n",
       "      <td>14</td>\n",
       "      <td>5.0</td>\n",
       "      <td>...</td>\n",
       "      <td>295</td>\n",
       "      <td>3.989831</td>\n",
       "      <td>5d464a1ffdf7bc44ee933c65</td>\n",
       "      <td>0</td>\n",
       "      <td>NaN</td>\n",
       "      <td>https://www.wish.com/c/5ea10e2c617580260d55310a</td>\n",
       "      <td>https://contestimg.wish.com/api/webimage/5ea10...</td>\n",
       "      <td>5ea10e2c617580260d55310a</td>\n",
       "      <td>summer</td>\n",
       "      <td>2020-08</td>\n",
       "    </tr>\n",
       "    <tr>\n",
       "      <th>3</th>\n",
       "      <td>Hot Summer Cool T-shirt pour les femmes Mode T...</td>\n",
       "      <td>Hot Summer Cool T Shirt for Women Fashion Tops...</td>\n",
       "      <td>8.00</td>\n",
       "      <td>8</td>\n",
       "      <td>EUR</td>\n",
       "      <td>5000</td>\n",
       "      <td>1</td>\n",
       "      <td>4.03</td>\n",
       "      <td>579</td>\n",
       "      <td>295.0</td>\n",
       "      <td>...</td>\n",
       "      <td>23832</td>\n",
       "      <td>4.020435</td>\n",
       "      <td>58cfdefdacb37b556efdff7c</td>\n",
       "      <td>0</td>\n",
       "      <td>NaN</td>\n",
       "      <td>https://www.wish.com/c/5cedf17ad1d44c52c59e4aca</td>\n",
       "      <td>https://contestimg.wish.com/api/webimage/5cedf...</td>\n",
       "      <td>5cedf17ad1d44c52c59e4aca</td>\n",
       "      <td>summer</td>\n",
       "      <td>2020-08</td>\n",
       "    </tr>\n",
       "    <tr>\n",
       "      <th>4</th>\n",
       "      <td>Femmes Shorts d'été à lacets taille élastique ...</td>\n",
       "      <td>Women Summer Shorts Lace Up Elastic Waistband ...</td>\n",
       "      <td>2.72</td>\n",
       "      <td>3</td>\n",
       "      <td>EUR</td>\n",
       "      <td>100</td>\n",
       "      <td>1</td>\n",
       "      <td>3.10</td>\n",
       "      <td>20</td>\n",
       "      <td>6.0</td>\n",
       "      <td>...</td>\n",
       "      <td>14482</td>\n",
       "      <td>4.001588</td>\n",
       "      <td>5ab3b592c3911a095ad5dadb</td>\n",
       "      <td>0</td>\n",
       "      <td>NaN</td>\n",
       "      <td>https://www.wish.com/c/5ebf5819ebac372b070b0e70</td>\n",
       "      <td>https://contestimg.wish.com/api/webimage/5ebf5...</td>\n",
       "      <td>5ebf5819ebac372b070b0e70</td>\n",
       "      <td>summer</td>\n",
       "      <td>2020-08</td>\n",
       "    </tr>\n",
       "  </tbody>\n",
       "</table>\n",
       "<p>5 rows × 43 columns</p>\n",
       "</div>"
      ],
      "text/plain": [
       "                                               title  \\\n",
       "0  2020 Summer Vintage Flamingo Print  Pajamas Se...   \n",
       "1  SSHOUSE Summer Casual Sleeveless Soirée Party ...   \n",
       "2  2020 Nouvelle Arrivée Femmes Printemps et Été ...   \n",
       "3  Hot Summer Cool T-shirt pour les femmes Mode T...   \n",
       "4  Femmes Shorts d'été à lacets taille élastique ...   \n",
       "\n",
       "                                          title_orig  price  retail_price  \\\n",
       "0  2020 Summer Vintage Flamingo Print  Pajamas Se...  16.00            14   \n",
       "1   Women's Casual Summer Sleeveless Sexy Mini Dress   8.00            22   \n",
       "2  2020 New Arrival Women Spring and Summer Beach...   8.00            43   \n",
       "3  Hot Summer Cool T Shirt for Women Fashion Tops...   8.00             8   \n",
       "4  Women Summer Shorts Lace Up Elastic Waistband ...   2.72             3   \n",
       "\n",
       "  currency_buyer  units_sold  uses_ad_boosts  rating  rating_count  \\\n",
       "0            EUR         100               0    3.76            54   \n",
       "1            EUR       20000               1    3.45          6135   \n",
       "2            EUR         100               0    3.57            14   \n",
       "3            EUR        5000               1    4.03           579   \n",
       "4            EUR         100               1    3.10            20   \n",
       "\n",
       "   rating_five_count  ...  merchant_rating_count  merchant_rating  \\\n",
       "0               26.0  ...                    568         4.128521   \n",
       "1             2269.0  ...                  17752         3.899673   \n",
       "2                5.0  ...                    295         3.989831   \n",
       "3              295.0  ...                  23832         4.020435   \n",
       "4                6.0  ...                  14482         4.001588   \n",
       "\n",
       "                merchant_id  merchant_has_profile_picture  \\\n",
       "0  595097d6a26f6e070cb878d1                             0   \n",
       "1  56458aa03a698c35c9050988                             0   \n",
       "2  5d464a1ffdf7bc44ee933c65                             0   \n",
       "3  58cfdefdacb37b556efdff7c                             0   \n",
       "4  5ab3b592c3911a095ad5dadb                             0   \n",
       "\n",
       "   merchant_profile_picture                                      product_url  \\\n",
       "0                       NaN  https://www.wish.com/c/5e9ae51d43d6a96e303acdb0   \n",
       "1                       NaN  https://www.wish.com/c/58940d436a0d3d5da4e95a38   \n",
       "2                       NaN  https://www.wish.com/c/5ea10e2c617580260d55310a   \n",
       "3                       NaN  https://www.wish.com/c/5cedf17ad1d44c52c59e4aca   \n",
       "4                       NaN  https://www.wish.com/c/5ebf5819ebac372b070b0e70   \n",
       "\n",
       "                                     product_picture  \\\n",
       "0  https://contestimg.wish.com/api/webimage/5e9ae...   \n",
       "1  https://contestimg.wish.com/api/webimage/58940...   \n",
       "2  https://contestimg.wish.com/api/webimage/5ea10...   \n",
       "3  https://contestimg.wish.com/api/webimage/5cedf...   \n",
       "4  https://contestimg.wish.com/api/webimage/5ebf5...   \n",
       "\n",
       "                 product_id   theme crawl_month  \n",
       "0  5e9ae51d43d6a96e303acdb0  summer     2020-08  \n",
       "1  58940d436a0d3d5da4e95a38  summer     2020-08  \n",
       "2  5ea10e2c617580260d55310a  summer     2020-08  \n",
       "3  5cedf17ad1d44c52c59e4aca  summer     2020-08  \n",
       "4  5ebf5819ebac372b070b0e70  summer     2020-08  \n",
       "\n",
       "[5 rows x 43 columns]"
      ]
     },
     "execution_count": 2,
     "metadata": {},
     "output_type": "execute_result"
    }
   ],
   "source": [
    "df = pd.read_csv('summer-products-with-rating-and-performance_2020-08.csv')\n",
    "df.head()"
   ]
  },
  {
   "cell_type": "code",
   "execution_count": 5,
   "id": "ba12f971",
   "metadata": {},
   "outputs": [
    {
     "data": {
      "text/plain": [
       "(1573, 43)"
      ]
     },
     "execution_count": 5,
     "metadata": {},
     "output_type": "execute_result"
    }
   ],
   "source": [
    "df.shape"
   ]
  },
  {
   "cell_type": "code",
   "execution_count": 6,
   "id": "d0b3abe6",
   "metadata": {},
   "outputs": [
    {
     "data": {
      "text/plain": [
       "Index(['title', 'title_orig', 'price', 'retail_price', 'currency_buyer',\n",
       "       'units_sold', 'uses_ad_boosts', 'rating', 'rating_count',\n",
       "       'rating_five_count', 'rating_four_count', 'rating_three_count',\n",
       "       'rating_two_count', 'rating_one_count', 'badges_count',\n",
       "       'badge_local_product', 'badge_product_quality', 'badge_fast_shipping',\n",
       "       'tags', 'product_color', 'product_variation_size_id',\n",
       "       'product_variation_inventory', 'shipping_option_name',\n",
       "       'shipping_option_price', 'shipping_is_express', 'countries_shipped_to',\n",
       "       'inventory_total', 'has_urgency_banner', 'urgency_text',\n",
       "       'origin_country', 'merchant_title', 'merchant_name',\n",
       "       'merchant_info_subtitle', 'merchant_rating_count', 'merchant_rating',\n",
       "       'merchant_id', 'merchant_has_profile_picture',\n",
       "       'merchant_profile_picture', 'product_url', 'product_picture',\n",
       "       'product_id', 'theme', 'crawl_month'],\n",
       "      dtype='object')"
      ]
     },
     "execution_count": 6,
     "metadata": {},
     "output_type": "execute_result"
    }
   ],
   "source": [
    "df.columns"
   ]
  },
  {
   "cell_type": "markdown",
   "id": "a344ba53",
   "metadata": {},
   "source": [
    "#### Part a\n",
    "The variable we want to predict is rating of the clothing items. So let's look at how it's varying."
   ]
  },
  {
   "cell_type": "code",
   "execution_count": 3,
   "id": "a1b2b8f0",
   "metadata": {},
   "outputs": [
    {
     "data": {
      "text/plain": [
       "0       3.76\n",
       "1       3.45\n",
       "2       3.57\n",
       "3       4.03\n",
       "4       3.10\n",
       "        ... \n",
       "1568    4.08\n",
       "1569    3.07\n",
       "1570    3.71\n",
       "1571    2.50\n",
       "1572    4.07\n",
       "Name: rating, Length: 1573, dtype: float64"
      ]
     },
     "execution_count": 3,
     "metadata": {},
     "output_type": "execute_result"
    }
   ],
   "source": [
    "df['rating']"
   ]
  },
  {
   "cell_type": "markdown",
   "id": "88f770be",
   "metadata": {},
   "source": [
    "We can solve this problem by considering the rating column as the target variable. Problem is supervised learning problem"
   ]
  },
  {
   "cell_type": "markdown",
   "id": "d916e699",
   "metadata": {},
   "source": [
    "#### Part b\n",
    "The relevant metrics are variance explained, root mean square error (RMSE), RMSE normalized by standard deviation of the target variable, mean absolute error. For this problem, I'll use root mean square error (RMSE) and mean absolute error (MAE)"
   ]
  },
  {
   "cell_type": "markdown",
   "id": "c18741b4",
   "metadata": {},
   "source": [
    "#### Part C"
   ]
  },
  {
   "cell_type": "code",
   "execution_count": 4,
   "id": "da51cd78",
   "metadata": {},
   "outputs": [
    {
     "data": {
      "text/plain": [
       "Index(['title', 'title_orig', 'price', 'retail_price', 'currency_buyer',\n",
       "       'units_sold', 'uses_ad_boosts', 'rating', 'rating_count',\n",
       "       'rating_five_count', 'rating_four_count', 'rating_three_count',\n",
       "       'rating_two_count', 'rating_one_count', 'badges_count',\n",
       "       'badge_local_product', 'badge_product_quality', 'badge_fast_shipping',\n",
       "       'tags', 'product_color', 'product_variation_size_id',\n",
       "       'product_variation_inventory', 'shipping_option_name',\n",
       "       'shipping_option_price', 'shipping_is_express', 'countries_shipped_to',\n",
       "       'inventory_total', 'has_urgency_banner', 'urgency_text',\n",
       "       'origin_country', 'merchant_title', 'merchant_name',\n",
       "       'merchant_info_subtitle', 'merchant_rating_count', 'merchant_rating',\n",
       "       'merchant_id', 'merchant_has_profile_picture',\n",
       "       'merchant_profile_picture', 'product_url', 'product_picture',\n",
       "       'product_id', 'theme', 'crawl_month'],\n",
       "      dtype='object')"
      ]
     },
     "execution_count": 4,
     "metadata": {},
     "output_type": "execute_result"
    }
   ],
   "source": [
    "df.columns"
   ]
  },
  {
   "cell_type": "code",
   "execution_count": 12,
   "id": "0c9e7805",
   "metadata": {},
   "outputs": [
    {
     "data": {
      "text/plain": [
       "array([0, 1, 2, 3], dtype=int64)"
      ]
     },
     "execution_count": 12,
     "metadata": {},
     "output_type": "execute_result"
    }
   ],
   "source": [
    "df['badges_count'].unique()"
   ]
  },
  {
   "cell_type": "code",
   "execution_count": 13,
   "id": "e4b9212c",
   "metadata": {},
   "outputs": [
    {
     "data": {
      "text/plain": [
       "0       Summer,Fashion,womenunderwearsuit,printedpajam...\n",
       "1       Mini,womens dresses,Summer,Patchwork,fashion d...\n",
       "2       Summer,cardigan,women beachwear,chiffon,Sexy w...\n",
       "3       Summer,Shorts,Cotton,Cotton T Shirt,Sleeve,pri...\n",
       "4       Summer,Plus Size,Lace,Casual pants,Bottom,pant...\n",
       "                              ...                        \n",
       "1568    bohemia,Plus Size,dandelionfloralprinted,short...\n",
       "1569    Summer,Panties,Elastic,Lace,Casual pants,casua...\n",
       "1570    runningshort,Beach Shorts,beachpant,menbeachsh...\n",
       "1571    Summer,fashion women,Fashion,Lace,Dresses,Dres...\n",
       "1572    Summer,Leggings,slim,Yoga,pants,Slim Fit,Women...\n",
       "Name: tags, Length: 1573, dtype: object"
      ]
     },
     "execution_count": 13,
     "metadata": {},
     "output_type": "execute_result"
    }
   ],
   "source": [
    "df['tags']"
   ]
  },
  {
   "cell_type": "code",
   "execution_count": 14,
   "id": "7c9decc7",
   "metadata": {},
   "outputs": [
    {
     "data": {
      "text/plain": [
       "0       50\n",
       "1       50\n",
       "2        1\n",
       "3       50\n",
       "4        1\n",
       "        ..\n",
       "1568    50\n",
       "1569     2\n",
       "1570    15\n",
       "1571    36\n",
       "1572    50\n",
       "Name: product_variation_inventory, Length: 1573, dtype: int64"
      ]
     },
     "execution_count": 14,
     "metadata": {},
     "output_type": "execute_result"
    }
   ],
   "source": [
    "df['product_variation_inventory']"
   ]
  },
  {
   "cell_type": "code",
   "execution_count": 15,
   "id": "03843475",
   "metadata": {},
   "outputs": [
    {
     "data": {
      "text/plain": [
       "0                      zgrdejia\n",
       "1                     SaraHouse\n",
       "2                        hxt520\n",
       "3                      allenfan\n",
       "4               youngpeopleshop\n",
       "                 ...           \n",
       "1568               cxuelin99126\n",
       "1569    sell best quality goods\n",
       "1570                 shixueying\n",
       "1571                      modai\n",
       "1572             AISHOPPINGMALL\n",
       "Name: merchant_title, Length: 1573, dtype: object"
      ]
     },
     "execution_count": 15,
     "metadata": {},
     "output_type": "execute_result"
    }
   ],
   "source": [
    "df['merchant_title']"
   ]
  },
  {
   "cell_type": "code",
   "execution_count": 10,
   "id": "7ff5d0b1",
   "metadata": {},
   "outputs": [
    {
     "data": {
      "text/plain": [
       "array(['EUR'], dtype=object)"
      ]
     },
     "execution_count": 10,
     "metadata": {},
     "output_type": "execute_result"
    }
   ],
   "source": [
    "df['currency_buyer'].unique()"
   ]
  },
  {
   "cell_type": "code",
   "execution_count": 3,
   "id": "0151edc1",
   "metadata": {},
   "outputs": [],
   "source": [
    "# Removing irrelevant variables\n",
    "df.drop(['title', 'title_orig', 'price', 'currency_buyer',\n",
    "       'rating_five_count', 'rating_four_count', 'rating_three_count',\n",
    "       'rating_two_count', 'rating_one_count', 'badges_count',\n",
    "       'badge_local_product', 'badge_product_quality', 'badge_fast_shipping',\n",
    "       'tags','product_variation_size_id',\n",
    "       'product_variation_inventory', 'shipping_option_name',\n",
    "       'shipping_option_price', 'shipping_is_express', 'countries_shipped_to',\n",
    "       'inventory_total', 'has_urgency_banner', 'urgency_text', 'merchant_info_subtitle', 'merchant_rating_count', 'merchant_id', 'merchant_has_profile_picture',\n",
    "       'merchant_profile_picture', 'product_url', 'product_picture',\n",
    "       'product_id', 'merchant_name', 'merchant_title'], axis = 1, inplace = True)"
   ]
  },
  {
   "cell_type": "code",
   "execution_count": 24,
   "id": "fd99c5ac",
   "metadata": {},
   "outputs": [
    {
     "data": {
      "text/html": [
       "<div>\n",
       "<style scoped>\n",
       "    .dataframe tbody tr th:only-of-type {\n",
       "        vertical-align: middle;\n",
       "    }\n",
       "\n",
       "    .dataframe tbody tr th {\n",
       "        vertical-align: top;\n",
       "    }\n",
       "\n",
       "    .dataframe thead th {\n",
       "        text-align: right;\n",
       "    }\n",
       "</style>\n",
       "<table border=\"1\" class=\"dataframe\">\n",
       "  <thead>\n",
       "    <tr style=\"text-align: right;\">\n",
       "      <th></th>\n",
       "      <th>retail_price</th>\n",
       "      <th>units_sold</th>\n",
       "      <th>uses_ad_boosts</th>\n",
       "      <th>rating</th>\n",
       "      <th>rating_count</th>\n",
       "      <th>product_color</th>\n",
       "      <th>origin_country</th>\n",
       "      <th>merchant_rating</th>\n",
       "      <th>theme</th>\n",
       "      <th>crawl_month</th>\n",
       "    </tr>\n",
       "  </thead>\n",
       "  <tbody>\n",
       "    <tr>\n",
       "      <th>0</th>\n",
       "      <td>14</td>\n",
       "      <td>100</td>\n",
       "      <td>0</td>\n",
       "      <td>3.76</td>\n",
       "      <td>54</td>\n",
       "      <td>white</td>\n",
       "      <td>CN</td>\n",
       "      <td>4.128521</td>\n",
       "      <td>summer</td>\n",
       "      <td>2020-08</td>\n",
       "    </tr>\n",
       "    <tr>\n",
       "      <th>1</th>\n",
       "      <td>22</td>\n",
       "      <td>20000</td>\n",
       "      <td>1</td>\n",
       "      <td>3.45</td>\n",
       "      <td>6135</td>\n",
       "      <td>green</td>\n",
       "      <td>CN</td>\n",
       "      <td>3.899673</td>\n",
       "      <td>summer</td>\n",
       "      <td>2020-08</td>\n",
       "    </tr>\n",
       "    <tr>\n",
       "      <th>2</th>\n",
       "      <td>43</td>\n",
       "      <td>100</td>\n",
       "      <td>0</td>\n",
       "      <td>3.57</td>\n",
       "      <td>14</td>\n",
       "      <td>leopardprint</td>\n",
       "      <td>CN</td>\n",
       "      <td>3.989831</td>\n",
       "      <td>summer</td>\n",
       "      <td>2020-08</td>\n",
       "    </tr>\n",
       "    <tr>\n",
       "      <th>3</th>\n",
       "      <td>8</td>\n",
       "      <td>5000</td>\n",
       "      <td>1</td>\n",
       "      <td>4.03</td>\n",
       "      <td>579</td>\n",
       "      <td>black</td>\n",
       "      <td>CN</td>\n",
       "      <td>4.020435</td>\n",
       "      <td>summer</td>\n",
       "      <td>2020-08</td>\n",
       "    </tr>\n",
       "    <tr>\n",
       "      <th>4</th>\n",
       "      <td>3</td>\n",
       "      <td>100</td>\n",
       "      <td>1</td>\n",
       "      <td>3.10</td>\n",
       "      <td>20</td>\n",
       "      <td>yellow</td>\n",
       "      <td>CN</td>\n",
       "      <td>4.001588</td>\n",
       "      <td>summer</td>\n",
       "      <td>2020-08</td>\n",
       "    </tr>\n",
       "  </tbody>\n",
       "</table>\n",
       "</div>"
      ],
      "text/plain": [
       "   retail_price  units_sold  uses_ad_boosts  rating  rating_count  \\\n",
       "0            14         100               0    3.76            54   \n",
       "1            22       20000               1    3.45          6135   \n",
       "2            43         100               0    3.57            14   \n",
       "3             8        5000               1    4.03           579   \n",
       "4             3         100               1    3.10            20   \n",
       "\n",
       "  product_color origin_country  merchant_rating   theme crawl_month  \n",
       "0         white             CN         4.128521  summer     2020-08  \n",
       "1         green             CN         3.899673  summer     2020-08  \n",
       "2  leopardprint             CN         3.989831  summer     2020-08  \n",
       "3         black             CN         4.020435  summer     2020-08  \n",
       "4        yellow             CN         4.001588  summer     2020-08  "
      ]
     },
     "execution_count": 24,
     "metadata": {},
     "output_type": "execute_result"
    }
   ],
   "source": [
    "df.head()"
   ]
  },
  {
   "cell_type": "code",
   "execution_count": 5,
   "id": "fd48687f",
   "metadata": {},
   "outputs": [
    {
     "data": {
      "text/plain": [
       "(1573, 10)"
      ]
     },
     "execution_count": 5,
     "metadata": {},
     "output_type": "execute_result"
    }
   ],
   "source": [
    "df.shape"
   ]
  },
  {
   "cell_type": "code",
   "execution_count": 21,
   "id": "d230d988",
   "metadata": {},
   "outputs": [
    {
     "data": {
      "text/plain": [
       "array(['CN', 'US', nan, 'VE', 'AT', 'SG', 'GB'], dtype=object)"
      ]
     },
     "execution_count": 21,
     "metadata": {},
     "output_type": "execute_result"
    }
   ],
   "source": [
    "df['origin_country'].unique()"
   ]
  },
  {
   "cell_type": "code",
   "execution_count": 6,
   "id": "b222b127",
   "metadata": {},
   "outputs": [
    {
     "data": {
      "text/plain": [
       "Index(['retail_price', 'units_sold', 'uses_ad_boosts', 'rating',\n",
       "       'rating_count', 'product_color', 'origin_country', 'merchant_rating',\n",
       "       'theme', 'crawl_month'],\n",
       "      dtype='object')"
      ]
     },
     "execution_count": 6,
     "metadata": {},
     "output_type": "execute_result"
    }
   ],
   "source": [
    "df.columns # Shows the columns name in df"
   ]
  },
  {
   "cell_type": "markdown",
   "id": "5c12ff99",
   "metadata": {},
   "source": [
    "The above cell shows the variables upon which rating is dependent"
   ]
  },
  {
   "cell_type": "markdown",
   "id": "88aa28d8",
   "metadata": {},
   "source": [
    "part D) crawl month cannot be used, origin country cannot be used directly. Have to convert it into cataegorical values. Similarly theme and product color cannot be used to. Have to convert it into catagorical values"
   ]
  },
  {
   "cell_type": "code",
   "execution_count": 4,
   "id": "a94fe5a5",
   "metadata": {},
   "outputs": [
    {
     "data": {
      "text/html": [
       "<div>\n",
       "<style scoped>\n",
       "    .dataframe tbody tr th:only-of-type {\n",
       "        vertical-align: middle;\n",
       "    }\n",
       "\n",
       "    .dataframe tbody tr th {\n",
       "        vertical-align: top;\n",
       "    }\n",
       "\n",
       "    .dataframe thead th {\n",
       "        text-align: right;\n",
       "    }\n",
       "</style>\n",
       "<table border=\"1\" class=\"dataframe\">\n",
       "  <thead>\n",
       "    <tr style=\"text-align: right;\">\n",
       "      <th></th>\n",
       "      <th>retail_price</th>\n",
       "      <th>units_sold</th>\n",
       "      <th>uses_ad_boosts</th>\n",
       "      <th>rating</th>\n",
       "      <th>rating_count</th>\n",
       "      <th>product_color</th>\n",
       "      <th>origin_country</th>\n",
       "      <th>merchant_rating</th>\n",
       "      <th>theme</th>\n",
       "    </tr>\n",
       "  </thead>\n",
       "  <tbody>\n",
       "    <tr>\n",
       "      <th>0</th>\n",
       "      <td>14</td>\n",
       "      <td>100</td>\n",
       "      <td>0</td>\n",
       "      <td>3.76</td>\n",
       "      <td>54</td>\n",
       "      <td>white</td>\n",
       "      <td>CN</td>\n",
       "      <td>4.128521</td>\n",
       "      <td>summer</td>\n",
       "    </tr>\n",
       "    <tr>\n",
       "      <th>1</th>\n",
       "      <td>22</td>\n",
       "      <td>20000</td>\n",
       "      <td>1</td>\n",
       "      <td>3.45</td>\n",
       "      <td>6135</td>\n",
       "      <td>green</td>\n",
       "      <td>CN</td>\n",
       "      <td>3.899673</td>\n",
       "      <td>summer</td>\n",
       "    </tr>\n",
       "    <tr>\n",
       "      <th>2</th>\n",
       "      <td>43</td>\n",
       "      <td>100</td>\n",
       "      <td>0</td>\n",
       "      <td>3.57</td>\n",
       "      <td>14</td>\n",
       "      <td>leopardprint</td>\n",
       "      <td>CN</td>\n",
       "      <td>3.989831</td>\n",
       "      <td>summer</td>\n",
       "    </tr>\n",
       "    <tr>\n",
       "      <th>3</th>\n",
       "      <td>8</td>\n",
       "      <td>5000</td>\n",
       "      <td>1</td>\n",
       "      <td>4.03</td>\n",
       "      <td>579</td>\n",
       "      <td>black</td>\n",
       "      <td>CN</td>\n",
       "      <td>4.020435</td>\n",
       "      <td>summer</td>\n",
       "    </tr>\n",
       "    <tr>\n",
       "      <th>4</th>\n",
       "      <td>3</td>\n",
       "      <td>100</td>\n",
       "      <td>1</td>\n",
       "      <td>3.10</td>\n",
       "      <td>20</td>\n",
       "      <td>yellow</td>\n",
       "      <td>CN</td>\n",
       "      <td>4.001588</td>\n",
       "      <td>summer</td>\n",
       "    </tr>\n",
       "  </tbody>\n",
       "</table>\n",
       "</div>"
      ],
      "text/plain": [
       "   retail_price  units_sold  uses_ad_boosts  rating  rating_count  \\\n",
       "0            14         100               0    3.76            54   \n",
       "1            22       20000               1    3.45          6135   \n",
       "2            43         100               0    3.57            14   \n",
       "3             8        5000               1    4.03           579   \n",
       "4             3         100               1    3.10            20   \n",
       "\n",
       "  product_color origin_country  merchant_rating   theme  \n",
       "0         white             CN         4.128521  summer  \n",
       "1         green             CN         3.899673  summer  \n",
       "2  leopardprint             CN         3.989831  summer  \n",
       "3         black             CN         4.020435  summer  \n",
       "4        yellow             CN         4.001588  summer  "
      ]
     },
     "execution_count": 4,
     "metadata": {},
     "output_type": "execute_result"
    }
   ],
   "source": [
    "df.drop(['crawl_month'], axis = 1, inplace = True)\n",
    "df.head()"
   ]
  },
  {
   "cell_type": "markdown",
   "id": "c2f75226",
   "metadata": {},
   "source": [
    "#### Part E"
   ]
  },
  {
   "cell_type": "code",
   "execution_count": 12,
   "id": "721e118c",
   "metadata": {},
   "outputs": [
    {
     "name": "stdout",
     "output_type": "stream",
     "text": [
      "Missing values in retail_price is: 0\n",
      "Missing values in units_sold is: 0\n",
      "Missing values in uses_ad_boosts is: 0\n",
      "Missing values in rating is: 0\n",
      "Missing values in rating_count is: 0\n",
      "Missing values in product_color is: 41\n",
      "Missing values in origin_country is: 17\n",
      "Missing values in merchant_rating is: 0\n",
      "Missing values in theme is: 0\n"
     ]
    }
   ],
   "source": [
    "for col in df.columns:\n",
    "    print(\"Missing values in \" + str(col) + \" is: \" + str(np.sum(df[col].isnull())))"
   ]
  },
  {
   "cell_type": "markdown",
   "id": "5a082383",
   "metadata": {},
   "source": [
    "The number of missing values are very less, so we can remove the rows with NaN values without much loss in training."
   ]
  },
  {
   "cell_type": "code",
   "execution_count": 5,
   "id": "15de1bb2",
   "metadata": {},
   "outputs": [],
   "source": [
    "df.dropna(axis = 0, inplace = True) # Drops rows with NaN values "
   ]
  },
  {
   "cell_type": "code",
   "execution_count": 6,
   "id": "7b6fba27",
   "metadata": {},
   "outputs": [
    {
     "data": {
      "text/html": [
       "<div>\n",
       "<style scoped>\n",
       "    .dataframe tbody tr th:only-of-type {\n",
       "        vertical-align: middle;\n",
       "    }\n",
       "\n",
       "    .dataframe tbody tr th {\n",
       "        vertical-align: top;\n",
       "    }\n",
       "\n",
       "    .dataframe thead th {\n",
       "        text-align: right;\n",
       "    }\n",
       "</style>\n",
       "<table border=\"1\" class=\"dataframe\">\n",
       "  <thead>\n",
       "    <tr style=\"text-align: right;\">\n",
       "      <th></th>\n",
       "      <th>retail_price</th>\n",
       "      <th>units_sold</th>\n",
       "      <th>uses_ad_boosts</th>\n",
       "      <th>rating</th>\n",
       "      <th>rating_count</th>\n",
       "      <th>merchant_rating</th>\n",
       "      <th>color_Army green</th>\n",
       "      <th>color_Black</th>\n",
       "      <th>color_Blue</th>\n",
       "      <th>color_Pink</th>\n",
       "      <th>...</th>\n",
       "      <th>color_winered</th>\n",
       "      <th>color_winered &amp; yellow</th>\n",
       "      <th>color_yellow</th>\n",
       "      <th>country_AT</th>\n",
       "      <th>country_CN</th>\n",
       "      <th>country_GB</th>\n",
       "      <th>country_SG</th>\n",
       "      <th>country_US</th>\n",
       "      <th>country_VE</th>\n",
       "      <th>theme_summer</th>\n",
       "    </tr>\n",
       "  </thead>\n",
       "  <tbody>\n",
       "    <tr>\n",
       "      <th>0</th>\n",
       "      <td>14</td>\n",
       "      <td>100</td>\n",
       "      <td>0</td>\n",
       "      <td>3.76</td>\n",
       "      <td>54</td>\n",
       "      <td>4.128521</td>\n",
       "      <td>0</td>\n",
       "      <td>0</td>\n",
       "      <td>0</td>\n",
       "      <td>0</td>\n",
       "      <td>...</td>\n",
       "      <td>0</td>\n",
       "      <td>0</td>\n",
       "      <td>0</td>\n",
       "      <td>0</td>\n",
       "      <td>1</td>\n",
       "      <td>0</td>\n",
       "      <td>0</td>\n",
       "      <td>0</td>\n",
       "      <td>0</td>\n",
       "      <td>1</td>\n",
       "    </tr>\n",
       "    <tr>\n",
       "      <th>1</th>\n",
       "      <td>22</td>\n",
       "      <td>20000</td>\n",
       "      <td>1</td>\n",
       "      <td>3.45</td>\n",
       "      <td>6135</td>\n",
       "      <td>3.899673</td>\n",
       "      <td>0</td>\n",
       "      <td>0</td>\n",
       "      <td>0</td>\n",
       "      <td>0</td>\n",
       "      <td>...</td>\n",
       "      <td>0</td>\n",
       "      <td>0</td>\n",
       "      <td>0</td>\n",
       "      <td>0</td>\n",
       "      <td>1</td>\n",
       "      <td>0</td>\n",
       "      <td>0</td>\n",
       "      <td>0</td>\n",
       "      <td>0</td>\n",
       "      <td>1</td>\n",
       "    </tr>\n",
       "    <tr>\n",
       "      <th>2</th>\n",
       "      <td>43</td>\n",
       "      <td>100</td>\n",
       "      <td>0</td>\n",
       "      <td>3.57</td>\n",
       "      <td>14</td>\n",
       "      <td>3.989831</td>\n",
       "      <td>0</td>\n",
       "      <td>0</td>\n",
       "      <td>0</td>\n",
       "      <td>0</td>\n",
       "      <td>...</td>\n",
       "      <td>0</td>\n",
       "      <td>0</td>\n",
       "      <td>0</td>\n",
       "      <td>0</td>\n",
       "      <td>1</td>\n",
       "      <td>0</td>\n",
       "      <td>0</td>\n",
       "      <td>0</td>\n",
       "      <td>0</td>\n",
       "      <td>1</td>\n",
       "    </tr>\n",
       "    <tr>\n",
       "      <th>3</th>\n",
       "      <td>8</td>\n",
       "      <td>5000</td>\n",
       "      <td>1</td>\n",
       "      <td>4.03</td>\n",
       "      <td>579</td>\n",
       "      <td>4.020435</td>\n",
       "      <td>0</td>\n",
       "      <td>0</td>\n",
       "      <td>0</td>\n",
       "      <td>0</td>\n",
       "      <td>...</td>\n",
       "      <td>0</td>\n",
       "      <td>0</td>\n",
       "      <td>0</td>\n",
       "      <td>0</td>\n",
       "      <td>1</td>\n",
       "      <td>0</td>\n",
       "      <td>0</td>\n",
       "      <td>0</td>\n",
       "      <td>0</td>\n",
       "      <td>1</td>\n",
       "    </tr>\n",
       "    <tr>\n",
       "      <th>4</th>\n",
       "      <td>3</td>\n",
       "      <td>100</td>\n",
       "      <td>1</td>\n",
       "      <td>3.10</td>\n",
       "      <td>20</td>\n",
       "      <td>4.001588</td>\n",
       "      <td>0</td>\n",
       "      <td>0</td>\n",
       "      <td>0</td>\n",
       "      <td>0</td>\n",
       "      <td>...</td>\n",
       "      <td>0</td>\n",
       "      <td>0</td>\n",
       "      <td>1</td>\n",
       "      <td>0</td>\n",
       "      <td>1</td>\n",
       "      <td>0</td>\n",
       "      <td>0</td>\n",
       "      <td>0</td>\n",
       "      <td>0</td>\n",
       "      <td>1</td>\n",
       "    </tr>\n",
       "  </tbody>\n",
       "</table>\n",
       "<p>5 rows × 114 columns</p>\n",
       "</div>"
      ],
      "text/plain": [
       "   retail_price  units_sold  uses_ad_boosts  rating  rating_count  \\\n",
       "0            14         100               0    3.76            54   \n",
       "1            22       20000               1    3.45          6135   \n",
       "2            43         100               0    3.57            14   \n",
       "3             8        5000               1    4.03           579   \n",
       "4             3         100               1    3.10            20   \n",
       "\n",
       "   merchant_rating  color_Army green  color_Black  color_Blue  color_Pink  \\\n",
       "0         4.128521                 0            0           0           0   \n",
       "1         3.899673                 0            0           0           0   \n",
       "2         3.989831                 0            0           0           0   \n",
       "3         4.020435                 0            0           0           0   \n",
       "4         4.001588                 0            0           0           0   \n",
       "\n",
       "   ...  color_winered  color_winered & yellow  color_yellow  country_AT  \\\n",
       "0  ...              0                       0             0           0   \n",
       "1  ...              0                       0             0           0   \n",
       "2  ...              0                       0             0           0   \n",
       "3  ...              0                       0             0           0   \n",
       "4  ...              0                       0             1           0   \n",
       "\n",
       "   country_CN  country_GB  country_SG  country_US  country_VE  theme_summer  \n",
       "0           1           0           0           0           0             1  \n",
       "1           1           0           0           0           0             1  \n",
       "2           1           0           0           0           0             1  \n",
       "3           1           0           0           0           0             1  \n",
       "4           1           0           0           0           0             1  \n",
       "\n",
       "[5 rows x 114 columns]"
      ]
     },
     "execution_count": 6,
     "metadata": {},
     "output_type": "execute_result"
    }
   ],
   "source": [
    "one_hot_df = pd.get_dummies(df, prefix={'product_color':'color',\n",
    "                                        'origin_country':'country',\n",
    "                                        'theme':'theme'},\n",
    "                            drop_first=False)\n",
    "one_hot_df.head()"
   ]
  },
  {
   "cell_type": "code",
   "execution_count": 7,
   "id": "711a9401",
   "metadata": {},
   "outputs": [],
   "source": [
    "target = df['rating']\n",
    "df.drop(['rating'], axis = 1, inplace = True)"
   ]
  },
  {
   "cell_type": "code",
   "execution_count": 33,
   "id": "02eaa38a",
   "metadata": {},
   "outputs": [
    {
     "data": {
      "text/plain": [
       "Index(['retail_price', 'units_sold', 'uses_ad_boosts', 'rating_count',\n",
       "       'product_color', 'origin_country', 'merchant_rating', 'theme'],\n",
       "      dtype='object')"
      ]
     },
     "execution_count": 33,
     "metadata": {},
     "output_type": "execute_result"
    }
   ],
   "source": [
    "df.columns"
   ]
  },
  {
   "cell_type": "code",
   "execution_count": 8,
   "id": "4fbfe13c",
   "metadata": {},
   "outputs": [],
   "source": [
    "one_hot_df.drop(['rating'], axis = 1, inplace = True)"
   ]
  },
  {
   "cell_type": "code",
   "execution_count": 9,
   "id": "d007830a",
   "metadata": {},
   "outputs": [],
   "source": [
    "col = ['retail_price', 'units_sold', 'rating_count', 'merchant_rating']"
   ]
  },
  {
   "cell_type": "code",
   "execution_count": 36,
   "id": "9aa790d7",
   "metadata": {},
   "outputs": [
    {
     "data": {
      "text/plain": [
       "23.304089709762533"
      ]
     },
     "execution_count": 36,
     "metadata": {},
     "output_type": "execute_result"
    }
   ],
   "source": [
    "df['retail_price'].mean()"
   ]
  },
  {
   "cell_type": "code",
   "execution_count": 38,
   "id": "a1379888",
   "metadata": {},
   "outputs": [],
   "source": [
    "# Normalizing the continuous columns\n",
    "for i in col:\n",
    "    df[col] = (df[col] - df[col].mean())/df[col].std()"
   ]
  },
  {
   "cell_type": "code",
   "execution_count": 10,
   "id": "0183eb80",
   "metadata": {},
   "outputs": [],
   "source": [
    "for i in col:\n",
    "    one_hot_df[col] = (one_hot_df[col] - one_hot_df[col].mean())/one_hot_df[col].std()"
   ]
  },
  {
   "cell_type": "code",
   "execution_count": 11,
   "id": "41910c2a",
   "metadata": {},
   "outputs": [
    {
     "data": {
      "text/html": [
       "<div>\n",
       "<style scoped>\n",
       "    .dataframe tbody tr th:only-of-type {\n",
       "        vertical-align: middle;\n",
       "    }\n",
       "\n",
       "    .dataframe tbody tr th {\n",
       "        vertical-align: top;\n",
       "    }\n",
       "\n",
       "    .dataframe thead th {\n",
       "        text-align: right;\n",
       "    }\n",
       "</style>\n",
       "<table border=\"1\" class=\"dataframe\">\n",
       "  <thead>\n",
       "    <tr style=\"text-align: right;\">\n",
       "      <th></th>\n",
       "      <th>retail_price</th>\n",
       "      <th>units_sold</th>\n",
       "      <th>uses_ad_boosts</th>\n",
       "      <th>rating_count</th>\n",
       "      <th>merchant_rating</th>\n",
       "      <th>color_Army green</th>\n",
       "      <th>color_Black</th>\n",
       "      <th>color_Blue</th>\n",
       "      <th>color_Pink</th>\n",
       "      <th>color_RED</th>\n",
       "      <th>...</th>\n",
       "      <th>color_winered</th>\n",
       "      <th>color_winered &amp; yellow</th>\n",
       "      <th>color_yellow</th>\n",
       "      <th>country_AT</th>\n",
       "      <th>country_CN</th>\n",
       "      <th>country_GB</th>\n",
       "      <th>country_SG</th>\n",
       "      <th>country_US</th>\n",
       "      <th>country_VE</th>\n",
       "      <th>theme_summer</th>\n",
       "    </tr>\n",
       "  </thead>\n",
       "  <tbody>\n",
       "    <tr>\n",
       "      <th>0</th>\n",
       "      <td>-0.304635</td>\n",
       "      <td>-0.462303</td>\n",
       "      <td>0</td>\n",
       "      <td>-0.424806</td>\n",
       "      <td>0.489869</td>\n",
       "      <td>0</td>\n",
       "      <td>0</td>\n",
       "      <td>0</td>\n",
       "      <td>0</td>\n",
       "      <td>0</td>\n",
       "      <td>...</td>\n",
       "      <td>0</td>\n",
       "      <td>0</td>\n",
       "      <td>0</td>\n",
       "      <td>0</td>\n",
       "      <td>1</td>\n",
       "      <td>0</td>\n",
       "      <td>0</td>\n",
       "      <td>0</td>\n",
       "      <td>0</td>\n",
       "      <td>1</td>\n",
       "    </tr>\n",
       "    <tr>\n",
       "      <th>1</th>\n",
       "      <td>-0.042699</td>\n",
       "      <td>1.773723</td>\n",
       "      <td>1</td>\n",
       "      <td>2.778802</td>\n",
       "      <td>-0.635467</td>\n",
       "      <td>0</td>\n",
       "      <td>0</td>\n",
       "      <td>0</td>\n",
       "      <td>0</td>\n",
       "      <td>0</td>\n",
       "      <td>...</td>\n",
       "      <td>0</td>\n",
       "      <td>0</td>\n",
       "      <td>0</td>\n",
       "      <td>0</td>\n",
       "      <td>1</td>\n",
       "      <td>0</td>\n",
       "      <td>0</td>\n",
       "      <td>0</td>\n",
       "      <td>0</td>\n",
       "      <td>1</td>\n",
       "    </tr>\n",
       "    <tr>\n",
       "      <th>2</th>\n",
       "      <td>0.644884</td>\n",
       "      <td>-0.462303</td>\n",
       "      <td>0</td>\n",
       "      <td>-0.445879</td>\n",
       "      <td>-0.192128</td>\n",
       "      <td>0</td>\n",
       "      <td>0</td>\n",
       "      <td>0</td>\n",
       "      <td>0</td>\n",
       "      <td>0</td>\n",
       "      <td>...</td>\n",
       "      <td>0</td>\n",
       "      <td>0</td>\n",
       "      <td>0</td>\n",
       "      <td>0</td>\n",
       "      <td>1</td>\n",
       "      <td>0</td>\n",
       "      <td>0</td>\n",
       "      <td>0</td>\n",
       "      <td>0</td>\n",
       "      <td>1</td>\n",
       "    </tr>\n",
       "    <tr>\n",
       "      <th>3</th>\n",
       "      <td>-0.501087</td>\n",
       "      <td>0.088276</td>\n",
       "      <td>1</td>\n",
       "      <td>-0.148224</td>\n",
       "      <td>-0.041635</td>\n",
       "      <td>0</td>\n",
       "      <td>0</td>\n",
       "      <td>0</td>\n",
       "      <td>0</td>\n",
       "      <td>0</td>\n",
       "      <td>...</td>\n",
       "      <td>0</td>\n",
       "      <td>0</td>\n",
       "      <td>0</td>\n",
       "      <td>0</td>\n",
       "      <td>1</td>\n",
       "      <td>0</td>\n",
       "      <td>0</td>\n",
       "      <td>0</td>\n",
       "      <td>0</td>\n",
       "      <td>1</td>\n",
       "    </tr>\n",
       "    <tr>\n",
       "      <th>4</th>\n",
       "      <td>-0.664797</td>\n",
       "      <td>-0.462303</td>\n",
       "      <td>1</td>\n",
       "      <td>-0.442718</td>\n",
       "      <td>-0.134311</td>\n",
       "      <td>0</td>\n",
       "      <td>0</td>\n",
       "      <td>0</td>\n",
       "      <td>0</td>\n",
       "      <td>0</td>\n",
       "      <td>...</td>\n",
       "      <td>0</td>\n",
       "      <td>0</td>\n",
       "      <td>1</td>\n",
       "      <td>0</td>\n",
       "      <td>1</td>\n",
       "      <td>0</td>\n",
       "      <td>0</td>\n",
       "      <td>0</td>\n",
       "      <td>0</td>\n",
       "      <td>1</td>\n",
       "    </tr>\n",
       "  </tbody>\n",
       "</table>\n",
       "<p>5 rows × 113 columns</p>\n",
       "</div>"
      ],
      "text/plain": [
       "   retail_price  units_sold  uses_ad_boosts  rating_count  merchant_rating  \\\n",
       "0     -0.304635   -0.462303               0     -0.424806         0.489869   \n",
       "1     -0.042699    1.773723               1      2.778802        -0.635467   \n",
       "2      0.644884   -0.462303               0     -0.445879        -0.192128   \n",
       "3     -0.501087    0.088276               1     -0.148224        -0.041635   \n",
       "4     -0.664797   -0.462303               1     -0.442718        -0.134311   \n",
       "\n",
       "   color_Army green  color_Black  color_Blue  color_Pink  color_RED  ...  \\\n",
       "0                 0            0           0           0          0  ...   \n",
       "1                 0            0           0           0          0  ...   \n",
       "2                 0            0           0           0          0  ...   \n",
       "3                 0            0           0           0          0  ...   \n",
       "4                 0            0           0           0          0  ...   \n",
       "\n",
       "   color_winered  color_winered & yellow  color_yellow  country_AT  \\\n",
       "0              0                       0             0           0   \n",
       "1              0                       0             0           0   \n",
       "2              0                       0             0           0   \n",
       "3              0                       0             0           0   \n",
       "4              0                       0             1           0   \n",
       "\n",
       "   country_CN  country_GB  country_SG  country_US  country_VE  theme_summer  \n",
       "0           1           0           0           0           0             1  \n",
       "1           1           0           0           0           0             1  \n",
       "2           1           0           0           0           0             1  \n",
       "3           1           0           0           0           0             1  \n",
       "4           1           0           0           0           0             1  \n",
       "\n",
       "[5 rows x 113 columns]"
      ]
     },
     "execution_count": 11,
     "metadata": {},
     "output_type": "execute_result"
    }
   ],
   "source": [
    "one_hot_df.head()"
   ]
  },
  {
   "cell_type": "code",
   "execution_count": 12,
   "id": "8335c108",
   "metadata": {},
   "outputs": [],
   "source": [
    "X = one_hot_df.copy()\n",
    "Y = target.copy()"
   ]
  },
  {
   "cell_type": "code",
   "execution_count": 14,
   "id": "0d1a140c",
   "metadata": {},
   "outputs": [
    {
     "name": "stdout",
     "output_type": "stream",
     "text": [
      "(1516, 113)\n",
      "(1516,)\n"
     ]
    }
   ],
   "source": [
    "# Checking the shapes\n",
    "print(X.shape)\n",
    "print(Y.shape)"
   ]
  },
  {
   "cell_type": "markdown",
   "id": "8c1a8f97",
   "metadata": {},
   "source": [
    "For this classification task, we have large number of dimensions and fewer samples. The ML model I'll be using are Random forests and SVM's.\n",
    "I will not be explicitly using a validation set, and only divide the training set into a training and test set (in 85:15 ratio). I will be using 5-fold CV later with the algorithms to have a 70:15:15 split of the data"
   ]
  },
  {
   "cell_type": "code",
   "execution_count": 15,
   "id": "5f5e56d3",
   "metadata": {},
   "outputs": [
    {
     "name": "stdout",
     "output_type": "stream",
     "text": [
      "(1288, 113)\n",
      "(1288,)\n",
      "(228, 113)\n",
      "(228,)\n"
     ]
    }
   ],
   "source": [
    "from sklearn.model_selection import train_test_split\n",
    "\n",
    "# Splliting the data into train and test\n",
    "X_train, X_test, Y_train, Y_test = train_test_split(X, Y, test_size = 0.15, shuffle = True)\n",
    "\n",
    "print(X_train.shape)\n",
    "print(Y_train.shape)\n",
    "print(X_test.shape)\n",
    "print(Y_test.shape)"
   ]
  },
  {
   "cell_type": "markdown",
   "id": "fb530076",
   "metadata": {},
   "source": [
    "### SVM"
   ]
  },
  {
   "cell_type": "code",
   "execution_count": 19,
   "id": "f5b0bb87",
   "metadata": {},
   "outputs": [],
   "source": [
    "# Setting up a parameter grid\n",
    "param_grid = {'C': [0.001, 0.01, 0.1, 1, 10], 'kernel': ('linear', 'rbf'), 'epsilon': [0.01, 0.1, 1]}\n",
    "\n",
    "# Carrying out a grid search with 5-fold cross validation\n",
    "g = GridSearchCV(estimator=SVR(), param_grid=param_grid, cv=5)\n",
    "\n",
    "# Fitting the training data\n",
    "g_r = g.fit(X_train, Y_train)"
   ]
  },
  {
   "cell_type": "code",
   "execution_count": 22,
   "id": "0b7d3176",
   "metadata": {},
   "outputs": [
    {
     "name": "stdout",
     "output_type": "stream",
     "text": [
      "MAE : 0.3618937021573773 | RMSE : 0.4935622995454858\n"
     ]
    }
   ],
   "source": [
    "best_params = g_r.best_params_\n",
    "\n",
    "# Creating the best optimizer on the basis of performance on the CV set\n",
    "best_svr = SVR(kernel=best_params['kernel'], C=best_params['C'], epsilon=best_params['epsilon'])\n",
    "\n",
    "scoring = {'abs_error': 'neg_mean_absolute_error',\n",
    "           'squared_error': 'neg_mean_squared_error'}\n",
    "\n",
    "# Evaluating the RMSE and MAE on the test set\n",
    "scores = cross_validate(best_svr, X_test, Y_test, scoring=scoring)\n",
    "print(\"MAE :\", abs(scores['test_abs_error'].mean()), \"| RMSE :\", math.sqrt(abs(scores['test_squared_error'].mean())))"
   ]
  },
  {
   "cell_type": "markdown",
   "id": "9a0f7de3",
   "metadata": {},
   "source": [
    "### Random Forest"
   ]
  },
  {
   "cell_type": "code",
   "execution_count": 24,
   "id": "fe37124c",
   "metadata": {},
   "outputs": [],
   "source": [
    "# Setting up a parameter grid\n",
    "param_grid = {'n_estimators': [10, 50, 100, 500, 1000]}\n",
    "\n",
    "# Carrying out a grid search with 5-fold cross validation\n",
    "g = GridSearchCV(estimator=RandomForestRegressor(), param_grid=param_grid, cv=5)\n",
    "\n",
    "# Fitting the training data\n",
    "grid_result = g.fit(X_train, Y_train)"
   ]
  },
  {
   "cell_type": "code",
   "execution_count": 25,
   "id": "9d9c1cc1",
   "metadata": {},
   "outputs": [
    {
     "name": "stdout",
     "output_type": "stream",
     "text": [
      "MAE : 0.359932823188405 | RMSE : 0.4870565182022751\n"
     ]
    }
   ],
   "source": [
    "best_params = grid_result.best_params_\n",
    "\n",
    "# Creating the best optimizer on the basis of performance on the CV set\n",
    "best_rf = RandomForestRegressor(n_estimators=best_params['n_estimators'])\n",
    "\n",
    "scoring = {'abs_error': 'neg_mean_absolute_error',\n",
    "           'squared_error': 'neg_mean_squared_error'}\n",
    "\n",
    "# Evaluating the RMSE and MAE on the test set\n",
    "scores = cross_validate(best_rf, X_test, Y_test, scoring=scoring)\n",
    "print(\"MAE :\", abs(scores['test_abs_error'].mean()), \"| RMSE :\", math.sqrt(abs(scores['test_squared_error'].mean())))"
   ]
  },
  {
   "cell_type": "markdown",
   "id": "4ffdde08",
   "metadata": {},
   "source": [
    "Amongst the above two models, Random forest does slightly better than SVM's regression as can be seen from the error values."
   ]
  },
  {
   "cell_type": "markdown",
   "id": "bebd936f",
   "metadata": {},
   "source": [
    "## Question 4"
   ]
  },
  {
   "cell_type": "code",
   "execution_count": 26,
   "id": "524e1c9d",
   "metadata": {},
   "outputs": [
    {
     "data": {
      "text/html": [
       "<div>\n",
       "<style scoped>\n",
       "    .dataframe tbody tr th:only-of-type {\n",
       "        vertical-align: middle;\n",
       "    }\n",
       "\n",
       "    .dataframe tbody tr th {\n",
       "        vertical-align: top;\n",
       "    }\n",
       "\n",
       "    .dataframe thead th {\n",
       "        text-align: right;\n",
       "    }\n",
       "</style>\n",
       "<table border=\"1\" class=\"dataframe\">\n",
       "  <thead>\n",
       "    <tr style=\"text-align: right;\">\n",
       "      <th></th>\n",
       "      <th>0</th>\n",
       "      <th>1</th>\n",
       "      <th>2</th>\n",
       "      <th>3</th>\n",
       "      <th>4</th>\n",
       "      <th>5</th>\n",
       "      <th>6</th>\n",
       "      <th>7</th>\n",
       "      <th>8</th>\n",
       "      <th>9</th>\n",
       "      <th>...</th>\n",
       "      <th>55</th>\n",
       "      <th>56</th>\n",
       "      <th>57</th>\n",
       "      <th>58</th>\n",
       "      <th>59</th>\n",
       "      <th>60</th>\n",
       "      <th>61</th>\n",
       "      <th>62</th>\n",
       "      <th>63</th>\n",
       "      <th>64</th>\n",
       "    </tr>\n",
       "  </thead>\n",
       "  <tbody>\n",
       "    <tr>\n",
       "      <th>0</th>\n",
       "      <td>26.0</td>\n",
       "      <td>4.0</td>\n",
       "      <td>5.0</td>\n",
       "      <td>8.0</td>\n",
       "      <td>-1.0</td>\n",
       "      <td>-13.0</td>\n",
       "      <td>-109.0</td>\n",
       "      <td>-66.0</td>\n",
       "      <td>-9.0</td>\n",
       "      <td>2.0</td>\n",
       "      <td>...</td>\n",
       "      <td>-28.0</td>\n",
       "      <td>61.0</td>\n",
       "      <td>4.0</td>\n",
       "      <td>8.0</td>\n",
       "      <td>5.0</td>\n",
       "      <td>4.0</td>\n",
       "      <td>-7.0</td>\n",
       "      <td>-59.0</td>\n",
       "      <td>16.0</td>\n",
       "      <td>0</td>\n",
       "    </tr>\n",
       "    <tr>\n",
       "      <th>1</th>\n",
       "      <td>-47.0</td>\n",
       "      <td>-6.0</td>\n",
       "      <td>-5.0</td>\n",
       "      <td>-7.0</td>\n",
       "      <td>13.0</td>\n",
       "      <td>-1.0</td>\n",
       "      <td>35.0</td>\n",
       "      <td>-10.0</td>\n",
       "      <td>10.0</td>\n",
       "      <td>-4.0</td>\n",
       "      <td>...</td>\n",
       "      <td>-25.0</td>\n",
       "      <td>47.0</td>\n",
       "      <td>6.0</td>\n",
       "      <td>6.0</td>\n",
       "      <td>5.0</td>\n",
       "      <td>13.0</td>\n",
       "      <td>21.0</td>\n",
       "      <td>111.0</td>\n",
       "      <td>15.0</td>\n",
       "      <td>0</td>\n",
       "    </tr>\n",
       "    <tr>\n",
       "      <th>2</th>\n",
       "      <td>-19.0</td>\n",
       "      <td>-8.0</td>\n",
       "      <td>-8.0</td>\n",
       "      <td>-8.0</td>\n",
       "      <td>-21.0</td>\n",
       "      <td>-6.0</td>\n",
       "      <td>-79.0</td>\n",
       "      <td>12.0</td>\n",
       "      <td>0.0</td>\n",
       "      <td>5.0</td>\n",
       "      <td>...</td>\n",
       "      <td>-83.0</td>\n",
       "      <td>7.0</td>\n",
       "      <td>7.0</td>\n",
       "      <td>1.0</td>\n",
       "      <td>-8.0</td>\n",
       "      <td>7.0</td>\n",
       "      <td>21.0</td>\n",
       "      <td>114.0</td>\n",
       "      <td>48.0</td>\n",
       "      <td>0</td>\n",
       "    </tr>\n",
       "    <tr>\n",
       "      <th>3</th>\n",
       "      <td>2.0</td>\n",
       "      <td>3.0</td>\n",
       "      <td>0.0</td>\n",
       "      <td>2.0</td>\n",
       "      <td>0.0</td>\n",
       "      <td>22.0</td>\n",
       "      <td>106.0</td>\n",
       "      <td>-14.0</td>\n",
       "      <td>-16.0</td>\n",
       "      <td>-2.0</td>\n",
       "      <td>...</td>\n",
       "      <td>-38.0</td>\n",
       "      <td>-11.0</td>\n",
       "      <td>4.0</td>\n",
       "      <td>7.0</td>\n",
       "      <td>11.0</td>\n",
       "      <td>33.0</td>\n",
       "      <td>39.0</td>\n",
       "      <td>119.0</td>\n",
       "      <td>43.0</td>\n",
       "      <td>0</td>\n",
       "    </tr>\n",
       "    <tr>\n",
       "      <th>4</th>\n",
       "      <td>6.0</td>\n",
       "      <td>0.0</td>\n",
       "      <td>0.0</td>\n",
       "      <td>-2.0</td>\n",
       "      <td>-14.0</td>\n",
       "      <td>10.0</td>\n",
       "      <td>-51.0</td>\n",
       "      <td>5.0</td>\n",
       "      <td>7.0</td>\n",
       "      <td>0.0</td>\n",
       "      <td>...</td>\n",
       "      <td>38.0</td>\n",
       "      <td>-35.0</td>\n",
       "      <td>-8.0</td>\n",
       "      <td>2.0</td>\n",
       "      <td>6.0</td>\n",
       "      <td>-13.0</td>\n",
       "      <td>-24.0</td>\n",
       "      <td>-112.0</td>\n",
       "      <td>-69.0</td>\n",
       "      <td>0</td>\n",
       "    </tr>\n",
       "    <tr>\n",
       "      <th>...</th>\n",
       "      <td>...</td>\n",
       "      <td>...</td>\n",
       "      <td>...</td>\n",
       "      <td>...</td>\n",
       "      <td>...</td>\n",
       "      <td>...</td>\n",
       "      <td>...</td>\n",
       "      <td>...</td>\n",
       "      <td>...</td>\n",
       "      <td>...</td>\n",
       "      <td>...</td>\n",
       "      <td>...</td>\n",
       "      <td>...</td>\n",
       "      <td>...</td>\n",
       "      <td>...</td>\n",
       "      <td>...</td>\n",
       "      <td>...</td>\n",
       "      <td>...</td>\n",
       "      <td>...</td>\n",
       "      <td>...</td>\n",
       "      <td>...</td>\n",
       "    </tr>\n",
       "    <tr>\n",
       "      <th>11673</th>\n",
       "      <td>-3.0</td>\n",
       "      <td>-1.0</td>\n",
       "      <td>-1.0</td>\n",
       "      <td>-1.0</td>\n",
       "      <td>-28.0</td>\n",
       "      <td>20.0</td>\n",
       "      <td>5.0</td>\n",
       "      <td>0.0</td>\n",
       "      <td>-5.0</td>\n",
       "      <td>0.0</td>\n",
       "      <td>...</td>\n",
       "      <td>-3.0</td>\n",
       "      <td>1.0</td>\n",
       "      <td>4.0</td>\n",
       "      <td>3.0</td>\n",
       "      <td>4.0</td>\n",
       "      <td>-51.0</td>\n",
       "      <td>-49.0</td>\n",
       "      <td>5.0</td>\n",
       "      <td>-9.0</td>\n",
       "      <td>3</td>\n",
       "    </tr>\n",
       "    <tr>\n",
       "      <th>11674</th>\n",
       "      <td>-13.0</td>\n",
       "      <td>-5.0</td>\n",
       "      <td>-4.0</td>\n",
       "      <td>-3.0</td>\n",
       "      <td>-4.0</td>\n",
       "      <td>-24.0</td>\n",
       "      <td>-10.0</td>\n",
       "      <td>-8.0</td>\n",
       "      <td>20.0</td>\n",
       "      <td>9.0</td>\n",
       "      <td>...</td>\n",
       "      <td>6.0</td>\n",
       "      <td>-3.0</td>\n",
       "      <td>-3.0</td>\n",
       "      <td>-3.0</td>\n",
       "      <td>-5.0</td>\n",
       "      <td>-4.0</td>\n",
       "      <td>-45.0</td>\n",
       "      <td>-12.0</td>\n",
       "      <td>-15.0</td>\n",
       "      <td>3</td>\n",
       "    </tr>\n",
       "    <tr>\n",
       "      <th>11675</th>\n",
       "      <td>-1.0</td>\n",
       "      <td>-3.0</td>\n",
       "      <td>-1.0</td>\n",
       "      <td>1.0</td>\n",
       "      <td>30.0</td>\n",
       "      <td>38.0</td>\n",
       "      <td>-1.0</td>\n",
       "      <td>36.0</td>\n",
       "      <td>-10.0</td>\n",
       "      <td>1.0</td>\n",
       "      <td>...</td>\n",
       "      <td>14.0</td>\n",
       "      <td>-8.0</td>\n",
       "      <td>-4.0</td>\n",
       "      <td>-4.0</td>\n",
       "      <td>-4.0</td>\n",
       "      <td>-21.0</td>\n",
       "      <td>-29.0</td>\n",
       "      <td>-5.0</td>\n",
       "      <td>0.0</td>\n",
       "      <td>3</td>\n",
       "    </tr>\n",
       "    <tr>\n",
       "      <th>11676</th>\n",
       "      <td>1.0</td>\n",
       "      <td>4.0</td>\n",
       "      <td>4.0</td>\n",
       "      <td>5.0</td>\n",
       "      <td>9.0</td>\n",
       "      <td>-10.0</td>\n",
       "      <td>4.0</td>\n",
       "      <td>1.0</td>\n",
       "      <td>-2.0</td>\n",
       "      <td>-1.0</td>\n",
       "      <td>...</td>\n",
       "      <td>-16.0</td>\n",
       "      <td>-3.0</td>\n",
       "      <td>0.0</td>\n",
       "      <td>-3.0</td>\n",
       "      <td>-5.0</td>\n",
       "      <td>-36.0</td>\n",
       "      <td>-90.0</td>\n",
       "      <td>3.0</td>\n",
       "      <td>5.0</td>\n",
       "      <td>3</td>\n",
       "    </tr>\n",
       "    <tr>\n",
       "      <th>11677</th>\n",
       "      <td>-2.0</td>\n",
       "      <td>4.0</td>\n",
       "      <td>2.0</td>\n",
       "      <td>-4.0</td>\n",
       "      <td>12.0</td>\n",
       "      <td>3.0</td>\n",
       "      <td>-2.0</td>\n",
       "      <td>9.0</td>\n",
       "      <td>-8.0</td>\n",
       "      <td>-2.0</td>\n",
       "      <td>...</td>\n",
       "      <td>2.0</td>\n",
       "      <td>1.0</td>\n",
       "      <td>0.0</td>\n",
       "      <td>-1.0</td>\n",
       "      <td>-2.0</td>\n",
       "      <td>-30.0</td>\n",
       "      <td>64.0</td>\n",
       "      <td>11.0</td>\n",
       "      <td>5.0</td>\n",
       "      <td>3</td>\n",
       "    </tr>\n",
       "  </tbody>\n",
       "</table>\n",
       "<p>11678 rows × 65 columns</p>\n",
       "</div>"
      ],
      "text/plain": [
       "         0    1    2    3     4     5      6     7     8    9   ...    55  \\\n",
       "0      26.0  4.0  5.0  8.0  -1.0 -13.0 -109.0 -66.0  -9.0  2.0  ... -28.0   \n",
       "1     -47.0 -6.0 -5.0 -7.0  13.0  -1.0   35.0 -10.0  10.0 -4.0  ... -25.0   \n",
       "2     -19.0 -8.0 -8.0 -8.0 -21.0  -6.0  -79.0  12.0   0.0  5.0  ... -83.0   \n",
       "3       2.0  3.0  0.0  2.0   0.0  22.0  106.0 -14.0 -16.0 -2.0  ... -38.0   \n",
       "4       6.0  0.0  0.0 -2.0 -14.0  10.0  -51.0   5.0   7.0  0.0  ...  38.0   \n",
       "...     ...  ...  ...  ...   ...   ...    ...   ...   ...  ...  ...   ...   \n",
       "11673  -3.0 -1.0 -1.0 -1.0 -28.0  20.0    5.0   0.0  -5.0  0.0  ...  -3.0   \n",
       "11674 -13.0 -5.0 -4.0 -3.0  -4.0 -24.0  -10.0  -8.0  20.0  9.0  ...   6.0   \n",
       "11675  -1.0 -3.0 -1.0  1.0  30.0  38.0   -1.0  36.0 -10.0  1.0  ...  14.0   \n",
       "11676   1.0  4.0  4.0  5.0   9.0 -10.0    4.0   1.0  -2.0 -1.0  ... -16.0   \n",
       "11677  -2.0  4.0  2.0 -4.0  12.0   3.0   -2.0   9.0  -8.0 -2.0  ...   2.0   \n",
       "\n",
       "         56   57   58    59    60    61     62    63  64  \n",
       "0      61.0  4.0  8.0   5.0   4.0  -7.0  -59.0  16.0   0  \n",
       "1      47.0  6.0  6.0   5.0  13.0  21.0  111.0  15.0   0  \n",
       "2       7.0  7.0  1.0  -8.0   7.0  21.0  114.0  48.0   0  \n",
       "3     -11.0  4.0  7.0  11.0  33.0  39.0  119.0  43.0   0  \n",
       "4     -35.0 -8.0  2.0   6.0 -13.0 -24.0 -112.0 -69.0   0  \n",
       "...     ...  ...  ...   ...   ...   ...    ...   ...  ..  \n",
       "11673   1.0  4.0  3.0   4.0 -51.0 -49.0    5.0  -9.0   3  \n",
       "11674  -3.0 -3.0 -3.0  -5.0  -4.0 -45.0  -12.0 -15.0   3  \n",
       "11675  -8.0 -4.0 -4.0  -4.0 -21.0 -29.0   -5.0   0.0   3  \n",
       "11676  -3.0  0.0 -3.0  -5.0 -36.0 -90.0    3.0   5.0   3  \n",
       "11677   1.0  0.0 -1.0  -2.0 -30.0  64.0   11.0   5.0   3  \n",
       "\n",
       "[11678 rows x 65 columns]"
      ]
     },
     "execution_count": 26,
     "metadata": {},
     "output_type": "execute_result"
    }
   ],
   "source": [
    "# Reading the data\n",
    "df_0 = pd.read_csv('0.csv', header = None)\n",
    "df_1 = pd.read_csv('1.csv', header = None)\n",
    "df_2 = pd.read_csv('2.csv', header = None)\n",
    "df_3 = pd.read_csv('3.csv', header = None)\n",
    "\n",
    "df = pd.concat([df_0, df_1, df_2, df_3], ignore_index=True) # Concating all the above dataframes\n",
    "\n",
    "df"
   ]
  },
  {
   "cell_type": "markdown",
   "id": "fa038bb3",
   "metadata": {},
   "source": [
    "1) The variable to be predicted is categorical. This problem is a supervised learning problem and the target variable is column 64.  \n",
    "2) The relevant metrics are accuracy, area under ROC curve, F1-score, sensitivity, specificity. For this problem, I'll use accuracy and F1-score  \n",
    "3) All of the variables in the given dataset are looking relavant.  \n",
    "4) All of the above variables are usable\n"
   ]
  },
  {
   "cell_type": "code",
   "execution_count": 27,
   "id": "b3793fee",
   "metadata": {},
   "outputs": [],
   "source": [
    "X = df.drop(64, axis = 1) # Variables to be used\n",
    "Y = df[64] # Target variable"
   ]
  },
  {
   "cell_type": "code",
   "execution_count": 28,
   "id": "30c6ded4",
   "metadata": {},
   "outputs": [
    {
     "name": "stdout",
     "output_type": "stream",
     "text": [
      "(11678, 64)\n",
      "(11678,)\n"
     ]
    }
   ],
   "source": [
    "print(X.shape)\n",
    "print(Y.shape)"
   ]
  },
  {
   "cell_type": "markdown",
   "id": "bb774af4",
   "metadata": {},
   "source": [
    "### Tranfroming the data"
   ]
  },
  {
   "cell_type": "code",
   "execution_count": 29,
   "id": "2c3f9c47",
   "metadata": {},
   "outputs": [],
   "source": [
    "# Separating the numerical and categorical data types\n",
    "numerical_ix = X.select_dtypes(include=['int64', 'float64']).columns # selects the columns with the type int and float\n",
    "categorical_ix = X.select_dtypes(include=['object', 'bool']).columns # Selects the categorical data types\n",
    "\n",
    "# Converting the categorical variables into one-hot dummy variables and scaling the numerical variables\n",
    "transforms = [('cat', OneHotEncoder(), categorical_ix), ('num', StandardScaler(), numerical_ix)]\n",
    "col_transform = ColumnTransformer(transformers=transforms)\n",
    "X = col_transform.fit_transform(X)"
   ]
  },
  {
   "cell_type": "markdown",
   "id": "7fee4224",
   "metadata": {},
   "source": [
    "### Question 5 ( PCA)"
   ]
  },
  {
   "cell_type": "code",
   "execution_count": 33,
   "id": "de0b8a09",
   "metadata": {},
   "outputs": [
    {
     "name": "stdout",
     "output_type": "stream",
     "text": [
      "[1, 2, 3, 4, 5, 6, 7, 8, 9, 10, 11, 12, 13, 14, 15, 16, 17, 18, 19, 20, 21, 22, 23, 24, 25, 26, 27, 28, 29, 30, 31, 32, 33, 34, 35, 36, 37, 38, 39, 40, 41, 42, 43, 44, 45, 46, 47, 48, 49, 50, 51, 52, 53, 54, 55, 56, 57, 58, 59, 60, 61, 62, 63, 64]\n",
      "[64]\n",
      "[51, 52, 53, 54, 55, 56, 57, 58, 59, 60, 61, 62, 63, 64]\n"
     ]
    }
   ],
   "source": [
    "from sklearn.decomposition import PCA\n",
    "\n",
    "# Testing all possible dimension reductions\n",
    "components_list = [i for i in range(1, 65)]\n",
    "print(components_list)\n",
    "\n",
    "# Storing the RMSE values obtained\n",
    "rmse_list = []\n",
    "\n",
    "# Keeping the RMSE less than 1% of the std of the L2 norm of X\n",
    "strict_condition = []\n",
    "\n",
    "# Achieving a minimum of 95% explained variance\n",
    "minimum_condition = []\n",
    "\n",
    "for i in components_list:\n",
    "\n",
    "    # Carrying out dimensionality reduction\n",
    "    pca = PCA(n_components = i)\n",
    "    pca.fit(X)\n",
    "    X_new = pca.transform(X)\n",
    "\n",
    "    # Calculating the total explained variance\n",
    "    var_ratio = pca.explained_variance_ratio_\n",
    "    sum_var_ratio = sum(pca.explained_variance_ratio_)\n",
    "    \n",
    "    if sum_var_ratio > 0.95:\n",
    "        minimum_condition.append(i)\n",
    "\n",
    "    # Reconstructing the original data from the transformed data\n",
    "    X_recon = pca.inverse_transform(X_new)\n",
    "\n",
    "    # Calculating the RMSE value\n",
    "    sq_error = np.square(X - X_recon)\n",
    "    tot_sq_error = np.sum(sq_error)\n",
    "    mse = tot_sq_error/float(X.size)\n",
    "    rmse = math.sqrt(mse)\n",
    "    rmse_list.append(rmse)\n",
    "\n",
    "    # Calculating the std of the L2 norm of X\n",
    "    X_sq = np.square(X)\n",
    "    X_norms = np.sqrt(np.sum(X_sq, axis = 1))\n",
    "    std_X_norm = np.std(X_norms)\n",
    "\n",
    "    if rmse < 0.01*std_X_norm:\n",
    "        strict_condition.append(i)\n",
    "\n",
    "print(strict_condition)\n",
    "print(minimum_condition)"
   ]
  },
  {
   "cell_type": "code",
   "execution_count": 35,
   "id": "96214252",
   "metadata": {},
   "outputs": [
    {
     "data": {
      "image/png": "[encoded data removed]",
      "text/plain": [
       "<Figure size 720x504 with 1 Axes>"
      ]
     },
     "metadata": {
      "needs_background": "light"
     },
     "output_type": "display_data"
    }
   ],
   "source": [
    "# Setting the figure size\n",
    "plt.figure(figsize = (10, 7))\n",
    "\n",
    "plt.plot(components_list, rmse_list)\n",
    "\n",
    "# Setting various axis parameters\n",
    "plt.tick_params(axis='x', which='major', labelsize=12)\n",
    "plt.xlabel(\"Dimensions Retained\", fontsize = 14)\n",
    "plt.tick_params(axis='y', which='major', labelsize=12)\n",
    "plt.ylabel(\"RMSE\", fontsize = 14)\n",
    "plt.show()"
   ]
  },
  {
   "cell_type": "markdown",
   "id": "3c341ac1",
   "metadata": {},
   "source": [
    "From the above plot and obtained values, it's clear that the required criteria of the RMSE reconstruction error being less than 1% of the standard deviation of the L2 norm of the 64 variable input is only satisfied when n_components is above 55-60, which is effectively the original data, which means that this criteria cannot be satisfied if we apply any sort of dimension reduction on X"
   ]
  },
  {
   "cell_type": "markdown",
   "id": "e780a863",
   "metadata": {},
   "source": [
    "### Back to question 4"
   ]
  },
  {
   "cell_type": "code",
   "execution_count": 38,
   "id": "d74674f6",
   "metadata": {},
   "outputs": [],
   "source": [
    "# Still the dimensions can be reduced to satisfy the weaker condition which is of the explained variance being greater than 95 % which allows the minimum dimension reduction to 51\n",
    "pca = PCA(n_components=minimum_condition[0])\n",
    "pca.fit(X)\n",
    "X_transformed = pca.transform(X)"
   ]
  },
  {
   "cell_type": "markdown",
   "id": "5340e662",
   "metadata": {},
   "source": [
    "Now for this task I'll be using the same ML models I used in the previous classification task i.e. SVM's model and Random Forest"
   ]
  },
  {
   "cell_type": "code",
   "execution_count": 39,
   "id": "dffa095a",
   "metadata": {},
   "outputs": [
    {
     "name": "stdout",
     "output_type": "stream",
     "text": [
      "(9926, 51)\n",
      "(9926,)\n",
      "(1752, 51)\n",
      "(1752,)\n"
     ]
    }
   ],
   "source": [
    "# Splliting the data into train and test\n",
    "X_train, X_test, Y_train, Y_test = train_test_split(X_transformed, Y, test_size = 0.15, shuffle = True)\n",
    "\n",
    "print(X_train.shape)\n",
    "print(Y_train.shape)\n",
    "print(X_test.shape)\n",
    "print(Y_test.shape)"
   ]
  },
  {
   "cell_type": "markdown",
   "id": "6dc17f1c",
   "metadata": {},
   "source": [
    "### SVC"
   ]
  },
  {
   "cell_type": "code",
   "execution_count": 43,
   "id": "65d82257",
   "metadata": {},
   "outputs": [],
   "source": [
    "# Setting up a parameter grid\n",
    "param_grid = {'C': [0.001, 0.01, 0.1, 1, 10], 'kernel': ('linear', 'rbf')}\n",
    "\n",
    "# Carrying out a grid search with 5-fold cross validation\n",
    "gc = GridSearchCV(estimator=SVC(), param_grid=param_grid, cv=5)\n",
    "\n",
    "# Fitting the training data\n",
    "grid_result_svc = gc.fit(X_train, Y_train)"
   ]
  },
  {
   "cell_type": "code",
   "execution_count": 47,
   "id": "620d565e",
   "metadata": {},
   "outputs": [
    {
     "name": "stdout",
     "output_type": "stream",
     "text": [
      "F1 score : 0.9235159817351598 | Accuracy : 0.9235159817351598\n"
     ]
    }
   ],
   "source": [
    "best_params = grid_result_svc.best_params_\n",
    "\n",
    "# Creating the best optimizer\n",
    "best_svc = SVC(kernel=best_params['kernel'], C=best_params['C'])\n",
    "best_svc.fit(X_train, Y_train)\n",
    "Y_pred = best_svc.predict(X_test)\n",
    "\n",
    "# F1 score\n",
    "f1 = f1_score(Y_test, Y_pred, average='micro')\n",
    "\n",
    "# ROC-AUC\n",
    "accuracy = accuracy_score(Y_test, Y_pred)\n",
    "\n",
    "print(\"F1 score :\", f1, \"| Accuracy :\", accuracy)"
   ]
  },
  {
   "cell_type": "markdown",
   "id": "9357843d",
   "metadata": {},
   "source": [
    "### Random Forests"
   ]
  },
  {
   "cell_type": "code",
   "execution_count": 50,
   "id": "42fc1a37",
   "metadata": {},
   "outputs": [],
   "source": [
    "# Setting up a parameter grid\n",
    "param_grid = {'n_estimators': [10, 50, 100, 500, 1000]}\n",
    "\n",
    "# Carrying out a grid search with 5-fold cross validation\n",
    "gc = GridSearchCV(estimator=RandomForestClassifier(), param_grid=param_grid, cv=5)\n",
    "\n",
    "# Fitting the training data\n",
    "grid_result = gc.fit(X_train, Y_train)"
   ]
  },
  {
   "cell_type": "code",
   "execution_count": 51,
   "id": "bc914c93",
   "metadata": {},
   "outputs": [
    {
     "name": "stdout",
     "output_type": "stream",
     "text": [
      "F1 score : 0.8213470319634703 | Accuracy : 0.8213470319634704\n"
     ]
    }
   ],
   "source": [
    "best_params = grid_result.best_params_\n",
    "\n",
    "# Creating the best optimizer\n",
    "best_rf = RandomForestClassifier(n_estimators=best_params['n_estimators'])\n",
    "best_rf.fit(X_train, Y_train)\n",
    "Y_pred = best_rf.predict(X_test)\n",
    "\n",
    "# F1 score\n",
    "f1 = f1_score(Y_test, Y_pred, average='micro')\n",
    "\n",
    "# ROC-AUC\n",
    "accuracy = accuracy_score(Y_test, Y_pred)\n",
    "\n",
    "print(\"F1 score :\", f1, \"| Accuracy :\", accuracy)"
   ]
  },
  {
   "cell_type": "markdown",
   "id": "e59da441",
   "metadata": {},
   "source": [
    "From the above results SVC performs much better then Random Forest classifier."
   ]
  },
  {
   "cell_type": "code",
   "execution_count": null,
   "id": "925f031e",
   "metadata": {},
   "outputs": [],
   "source": []
  }
 ],
 "metadata": {
  "kernelspec": {
   "display_name": "Python 3 (ipykernel)",
   "language": "python",
   "name": "python3"
  },
  "language_info": {
   "codemirror_mode": {
    "name": "ipython",
    "version": 3
   },
   "file_extension": ".py",
   "mimetype": "text/x-python",
   "name": "python",
   "nbconvert_exporter": "python",
   "pygments_lexer": "ipython3",
   "version": "3.10.4"
  }
 },
 "nbformat": 4,
 "nbformat_minor": 5
}
