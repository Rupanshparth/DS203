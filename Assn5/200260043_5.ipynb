{
 "cells": [
  {
   "cell_type": "code",
   "execution_count": 1,
   "id": "ee6047f8",
   "metadata": {},
   "outputs": [],
   "source": [
    "import numpy as np\n",
    "import scipy.stats as stats\n",
    "import pandas as pd\n",
    "import matplotlib.pyplot as plt\n",
    "%matplotlib inline"
   ]
  },
  {
   "cell_type": "code",
   "execution_count": 2,
   "id": "ec203013",
   "metadata": {},
   "outputs": [
    {
     "data": {
      "text/html": [
       "<div>\n",
       "<style scoped>\n",
       "    .dataframe tbody tr th:only-of-type {\n",
       "        vertical-align: middle;\n",
       "    }\n",
       "\n",
       "    .dataframe tbody tr th {\n",
       "        vertical-align: top;\n",
       "    }\n",
       "\n",
       "    .dataframe thead th {\n",
       "        text-align: right;\n",
       "    }\n",
       "</style>\n",
       "<table border=\"1\" class=\"dataframe\">\n",
       "  <thead>\n",
       "    <tr style=\"text-align: right;\">\n",
       "      <th></th>\n",
       "      <th>Rowid</th>\n",
       "      <th>Country</th>\n",
       "      <th>State lgd code</th>\n",
       "      <th>State</th>\n",
       "      <th>District lgd code</th>\n",
       "      <th>District</th>\n",
       "      <th>Year</th>\n",
       "      <th>Type of residence namely rural or urban</th>\n",
       "      <th>Number of census houses</th>\n",
       "      <th>Houses having grass or thatch or bamboo etc. as material of wall</th>\n",
       "      <th>Houses having plastic or polythene as material of wall</th>\n",
       "      <th>Houses having mud or unburnt brick as material of wall</th>\n",
       "      <th>Houses having wood as material of wall</th>\n",
       "      <th>Houses having stone not packed with mortar as material of wall</th>\n",
       "      <th>Houses having stone packed with mortar as material of wall</th>\n",
       "      <th>Houses having galvanized iron (gi) sheets or metal or asbestos sheets as material of wall</th>\n",
       "      <th>Houses having burnt brick as material of wall</th>\n",
       "      <th>Houses having concrete as material of wall</th>\n",
       "      <th>Houses having any other material of wall</th>\n",
       "    </tr>\n",
       "  </thead>\n",
       "  <tbody>\n",
       "    <tr>\n",
       "      <th>0</th>\n",
       "      <td>1</td>\n",
       "      <td>India</td>\n",
       "      <td>1</td>\n",
       "      <td>Jammu And Kashmir</td>\n",
       "      <td>1</td>\n",
       "      <td>Anantnag</td>\n",
       "      <td>2011</td>\n",
       "      <td>Rural</td>\n",
       "      <td>109465</td>\n",
       "      <td>270</td>\n",
       "      <td>1331</td>\n",
       "      <td>22710.000000</td>\n",
       "      <td>3014.00000</td>\n",
       "      <td>3034.000000</td>\n",
       "      <td>480.000000</td>\n",
       "      <td>229.000000</td>\n",
       "      <td>76229.00000</td>\n",
       "      <td>1400.000000</td>\n",
       "      <td>768.000000</td>\n",
       "    </tr>\n",
       "    <tr>\n",
       "      <th>1</th>\n",
       "      <td>2</td>\n",
       "      <td>India</td>\n",
       "      <td>1</td>\n",
       "      <td>Jammu And Kashmir</td>\n",
       "      <td>1</td>\n",
       "      <td>Anantnag</td>\n",
       "      <td>2011</td>\n",
       "      <td>Urban</td>\n",
       "      <td>33522</td>\n",
       "      <td>69</td>\n",
       "      <td>121</td>\n",
       "      <td>6807.000000</td>\n",
       "      <td>123.00000</td>\n",
       "      <td>268.000000</td>\n",
       "      <td>93.000000</td>\n",
       "      <td>98.000000</td>\n",
       "      <td>23789.00000</td>\n",
       "      <td>1894.000000</td>\n",
       "      <td>260.000000</td>\n",
       "    </tr>\n",
       "    <tr>\n",
       "      <th>2</th>\n",
       "      <td>3</td>\n",
       "      <td>India</td>\n",
       "      <td>1</td>\n",
       "      <td>Jammu And Kashmir</td>\n",
       "      <td>2</td>\n",
       "      <td>Budgam</td>\n",
       "      <td>2011</td>\n",
       "      <td>Rural</td>\n",
       "      <td>85561.57321</td>\n",
       "      <td>134.1822704</td>\n",
       "      <td>168.9702664</td>\n",
       "      <td>7174.278724</td>\n",
       "      <td>960.14869</td>\n",
       "      <td>748.438886</td>\n",
       "      <td>306.134365</td>\n",
       "      <td>214.691633</td>\n",
       "      <td>73342.04111</td>\n",
       "      <td>1013.821599</td>\n",
       "      <td>1498.865657</td>\n",
       "    </tr>\n",
       "    <tr>\n",
       "      <th>3</th>\n",
       "      <td>4</td>\n",
       "      <td>India</td>\n",
       "      <td>1</td>\n",
       "      <td>Jammu And Kashmir</td>\n",
       "      <td>2</td>\n",
       "      <td>Budgam</td>\n",
       "      <td>2011</td>\n",
       "      <td>Urban</td>\n",
       "      <td>13136</td>\n",
       "      <td>49</td>\n",
       "      <td>27</td>\n",
       "      <td>935.000000</td>\n",
       "      <td>24.00000</td>\n",
       "      <td>187.000000</td>\n",
       "      <td>30.000000</td>\n",
       "      <td>39.000000</td>\n",
       "      <td>11297.00000</td>\n",
       "      <td>454.000000</td>\n",
       "      <td>94.000000</td>\n",
       "    </tr>\n",
       "    <tr>\n",
       "      <th>4</th>\n",
       "      <td>5</td>\n",
       "      <td>India</td>\n",
       "      <td>1</td>\n",
       "      <td>Jammu And Kashmir</td>\n",
       "      <td>3</td>\n",
       "      <td>Baramulla</td>\n",
       "      <td>2011</td>\n",
       "      <td>Rural</td>\n",
       "      <td>120312.4268</td>\n",
       "      <td>410.8177296</td>\n",
       "      <td>173.0297336</td>\n",
       "      <td>19207.721280</td>\n",
       "      <td>3227.85131</td>\n",
       "      <td>12552.561110</td>\n",
       "      <td>5479.865635</td>\n",
       "      <td>1740.308367</td>\n",
       "      <td>72686.95889</td>\n",
       "      <td>2118.178401</td>\n",
       "      <td>2715.134343</td>\n",
       "    </tr>\n",
       "  </tbody>\n",
       "</table>\n",
       "</div>"
      ],
      "text/plain": [
       "   Rowid Country  State lgd code              State  District lgd code  \\\n",
       "0      1   India               1  Jammu And Kashmir                  1   \n",
       "1      2   India               1  Jammu And Kashmir                  1   \n",
       "2      3   India               1  Jammu And Kashmir                  2   \n",
       "3      4   India               1  Jammu And Kashmir                  2   \n",
       "4      5   India               1  Jammu And Kashmir                  3   \n",
       "\n",
       "    District  Year Type of residence namely rural or urban  \\\n",
       "0   Anantnag  2011                                   Rural   \n",
       "1   Anantnag  2011                                   Urban   \n",
       "2     Budgam  2011                                   Rural   \n",
       "3     Budgam  2011                                   Urban   \n",
       "4  Baramulla  2011                                   Rural   \n",
       "\n",
       "  Number of census houses  \\\n",
       "0                  109465   \n",
       "1                   33522   \n",
       "2             85561.57321   \n",
       "3                   13136   \n",
       "4             120312.4268   \n",
       "\n",
       "  Houses having grass or thatch or bamboo etc. as material of wall  \\\n",
       "0                                                270                 \n",
       "1                                                 69                 \n",
       "2                                        134.1822704                 \n",
       "3                                                 49                 \n",
       "4                                        410.8177296                 \n",
       "\n",
       "  Houses having plastic or polythene as material of wall  \\\n",
       "0                                               1331       \n",
       "1                                                121       \n",
       "2                                        168.9702664       \n",
       "3                                                 27       \n",
       "4                                        173.0297336       \n",
       "\n",
       "   Houses having mud or unburnt brick as material of wall  \\\n",
       "0                                       22710.000000        \n",
       "1                                        6807.000000        \n",
       "2                                        7174.278724        \n",
       "3                                         935.000000        \n",
       "4                                       19207.721280        \n",
       "\n",
       "   Houses having wood as material of wall  \\\n",
       "0                              3014.00000   \n",
       "1                               123.00000   \n",
       "2                               960.14869   \n",
       "3                                24.00000   \n",
       "4                              3227.85131   \n",
       "\n",
       "   Houses having stone not packed with mortar as material of wall  \\\n",
       "0                                        3034.000000                \n",
       "1                                         268.000000                \n",
       "2                                         748.438886                \n",
       "3                                         187.000000                \n",
       "4                                       12552.561110                \n",
       "\n",
       "   Houses having stone packed with mortar as material of wall  \\\n",
       "0                                         480.000000            \n",
       "1                                          93.000000            \n",
       "2                                         306.134365            \n",
       "3                                          30.000000            \n",
       "4                                        5479.865635            \n",
       "\n",
       "   Houses having galvanized iron (gi) sheets or metal or asbestos sheets as material of wall  \\\n",
       "0                                         229.000000                                           \n",
       "1                                          98.000000                                           \n",
       "2                                         214.691633                                           \n",
       "3                                          39.000000                                           \n",
       "4                                        1740.308367                                           \n",
       "\n",
       "   Houses having burnt brick as material of wall  \\\n",
       "0                                    76229.00000   \n",
       "1                                    23789.00000   \n",
       "2                                    73342.04111   \n",
       "3                                    11297.00000   \n",
       "4                                    72686.95889   \n",
       "\n",
       "   Houses having concrete as material of wall  \\\n",
       "0                                 1400.000000   \n",
       "1                                 1894.000000   \n",
       "2                                 1013.821599   \n",
       "3                                  454.000000   \n",
       "4                                 2118.178401   \n",
       "\n",
       "   Houses having any other material of wall  \n",
       "0                                768.000000  \n",
       "1                                260.000000  \n",
       "2                               1498.865657  \n",
       "3                                 94.000000  \n",
       "4                               2715.134343  "
      ]
     },
     "execution_count": 2,
     "metadata": {},
     "output_type": "execute_result"
    }
   ],
   "source": [
    "data = pd.read_csv('../Week1_Assn1/NDAP_REPORT_7004.csv')\n",
    "data.head()"
   ]
  },
  {
   "cell_type": "code",
   "execution_count": 3,
   "id": "9ba044bb",
   "metadata": {},
   "outputs": [],
   "source": [
    "\n",
    "data = data.replace(to_replace = \"zero\", value = float(0))\n",
    "\n",
    "c = data.columns.values\n",
    "\n",
    "# Changing the datatype of number of houses columns from object to float\n",
    "\n",
    "data[c[8]] = pd.to_numeric(data[c[8]])\n",
    "data[c[9]] = pd.to_numeric(data[c[9]])\n",
    "data[c[10]] = pd.to_numeric(data[c[10]])\n",
    "\n"
   ]
  },
  {
   "cell_type": "code",
   "execution_count": 4,
   "id": "1b2e58f4",
   "metadata": {},
   "outputs": [
    {
     "data": {
      "text/plain": [
       "Index(['Rowid', 'Country', 'State lgd code', 'State', 'District lgd code',\n",
       "       'District', 'Year', 'Type of residence namely rural or urban',\n",
       "       'Number of census houses',\n",
       "       'Houses having grass or thatch or bamboo etc. as material of wall',\n",
       "       'Houses having plastic or polythene as material of wall',\n",
       "       'Houses having mud or unburnt brick as material of wall',\n",
       "       'Houses having wood as material of wall',\n",
       "       'Houses having stone not packed with mortar as material of wall',\n",
       "       'Houses having stone packed with mortar as material of wall',\n",
       "       'Houses having galvanized iron (gi) sheets or metal or asbestos sheets as material of wall',\n",
       "       'Houses having burnt brick as material of wall',\n",
       "       'Houses having concrete as material of wall',\n",
       "       'Houses having any other material of wall'],\n",
       "      dtype='object')"
      ]
     },
     "execution_count": 4,
     "metadata": {},
     "output_type": "execute_result"
    }
   ],
   "source": [
    "data.columns"
   ]
  },
  {
   "cell_type": "code",
   "execution_count": 5,
   "id": "a0fdd221",
   "metadata": {},
   "outputs": [
    {
     "data": {
      "text/plain": [
       "array(['Rowid', 'Country', 'State lgd code', 'State', 'District lgd code',\n",
       "       'District', 'Year', 'Type of residence namely rural or urban',\n",
       "       'Number of census houses',\n",
       "       'Houses having grass or thatch or bamboo etc. as material of wall',\n",
       "       'Houses having plastic or polythene as material of wall',\n",
       "       'Houses having mud or unburnt brick as material of wall',\n",
       "       'Houses having wood as material of wall',\n",
       "       'Houses having stone not packed with mortar as material of wall',\n",
       "       'Houses having stone packed with mortar as material of wall',\n",
       "       'Houses having galvanized iron (gi) sheets or metal or asbestos sheets as material of wall',\n",
       "       'Houses having burnt brick as material of wall',\n",
       "       'Houses having concrete as material of wall',\n",
       "       'Houses having any other material of wall'], dtype=object)"
      ]
     },
     "execution_count": 5,
     "metadata": {},
     "output_type": "execute_result"
    }
   ],
   "source": [
    "data.columns.values"
   ]
  },
  {
   "cell_type": "code",
   "execution_count": 6,
   "id": "e2d492c1",
   "metadata": {},
   "outputs": [],
   "source": [
    "col = list(data.columns) # getting all the columns in the form of list\n",
    "\n",
    "# Keeping only the columns having object/mixed values \n",
    "\n",
    "for c in data.columns.values: \n",
    "    if (data[c].dtypes != 'object'):\n",
    "        col.remove(c)\n",
    "# Removing leading and trailing characters from columns with str type\n",
    "\n",
    "for i in col:\n",
    "    data[i] = data[i].str.strip()\n",
    "\n",
    "# Filling the missing values in columns with datatype string\n",
    "for c in data.columns.values: \n",
    "    if (data[c].dtypes == 'object'):\n",
    "        data[c] = data[c].fillna(\"None\") \n",
    "# Filling the missing values of Float types with the mean values (don't need to do anything about int types, have no missing values)\n",
    "for c in data.columns.values: \n",
    "    if (data[c].dtypes == 'float64'):\n",
    "        data[c] = data[c].fillna(np.mean(data[c])) "
   ]
  },
  {
   "cell_type": "code",
   "execution_count": 7,
   "id": "2a04916f",
   "metadata": {},
   "outputs": [
    {
     "data": {
      "text/html": [
       "<div>\n",
       "<style scoped>\n",
       "    .dataframe tbody tr th:only-of-type {\n",
       "        vertical-align: middle;\n",
       "    }\n",
       "\n",
       "    .dataframe tbody tr th {\n",
       "        vertical-align: top;\n",
       "    }\n",
       "\n",
       "    .dataframe thead th {\n",
       "        text-align: right;\n",
       "    }\n",
       "</style>\n",
       "<table border=\"1\" class=\"dataframe\">\n",
       "  <thead>\n",
       "    <tr style=\"text-align: right;\">\n",
       "      <th></th>\n",
       "      <th>Rowid</th>\n",
       "      <th>Country</th>\n",
       "      <th>State lgd code</th>\n",
       "      <th>State</th>\n",
       "      <th>District lgd code</th>\n",
       "      <th>District</th>\n",
       "      <th>Year</th>\n",
       "      <th>Type of residence namely rural or urban</th>\n",
       "      <th>Number of census houses</th>\n",
       "      <th>Houses having grass or thatch or bamboo etc. as material of wall</th>\n",
       "      <th>Houses having plastic or polythene as material of wall</th>\n",
       "      <th>Houses having mud or unburnt brick as material of wall</th>\n",
       "      <th>Houses having wood as material of wall</th>\n",
       "      <th>Houses having stone not packed with mortar as material of wall</th>\n",
       "      <th>Houses having stone packed with mortar as material of wall</th>\n",
       "      <th>Houses having galvanized iron (gi) sheets or metal or asbestos sheets as material of wall</th>\n",
       "      <th>Houses having burnt brick as material of wall</th>\n",
       "      <th>Houses having concrete as material of wall</th>\n",
       "      <th>Houses having any other material of wall</th>\n",
       "    </tr>\n",
       "  </thead>\n",
       "  <tbody>\n",
       "    <tr>\n",
       "      <th>0</th>\n",
       "      <td>1</td>\n",
       "      <td>India</td>\n",
       "      <td>1</td>\n",
       "      <td>Jammu And Kashmir</td>\n",
       "      <td>1</td>\n",
       "      <td>Anantnag</td>\n",
       "      <td>2011</td>\n",
       "      <td>Rural</td>\n",
       "      <td>109465.00000</td>\n",
       "      <td>270.00000</td>\n",
       "      <td>1331.000000</td>\n",
       "      <td>22710.000000</td>\n",
       "      <td>3014.00000</td>\n",
       "      <td>3034.000000</td>\n",
       "      <td>480.000000</td>\n",
       "      <td>229.000000</td>\n",
       "      <td>76229.00000</td>\n",
       "      <td>1400.000000</td>\n",
       "      <td>768.000000</td>\n",
       "    </tr>\n",
       "    <tr>\n",
       "      <th>1</th>\n",
       "      <td>2</td>\n",
       "      <td>India</td>\n",
       "      <td>1</td>\n",
       "      <td>Jammu And Kashmir</td>\n",
       "      <td>1</td>\n",
       "      <td>Anantnag</td>\n",
       "      <td>2011</td>\n",
       "      <td>Urban</td>\n",
       "      <td>33522.00000</td>\n",
       "      <td>69.00000</td>\n",
       "      <td>121.000000</td>\n",
       "      <td>6807.000000</td>\n",
       "      <td>123.00000</td>\n",
       "      <td>268.000000</td>\n",
       "      <td>93.000000</td>\n",
       "      <td>98.000000</td>\n",
       "      <td>23789.00000</td>\n",
       "      <td>1894.000000</td>\n",
       "      <td>260.000000</td>\n",
       "    </tr>\n",
       "    <tr>\n",
       "      <th>2</th>\n",
       "      <td>3</td>\n",
       "      <td>India</td>\n",
       "      <td>1</td>\n",
       "      <td>Jammu And Kashmir</td>\n",
       "      <td>2</td>\n",
       "      <td>Budgam</td>\n",
       "      <td>2011</td>\n",
       "      <td>Rural</td>\n",
       "      <td>85561.57321</td>\n",
       "      <td>134.18227</td>\n",
       "      <td>168.970266</td>\n",
       "      <td>7174.278724</td>\n",
       "      <td>960.14869</td>\n",
       "      <td>748.438886</td>\n",
       "      <td>306.134365</td>\n",
       "      <td>214.691633</td>\n",
       "      <td>73342.04111</td>\n",
       "      <td>1013.821599</td>\n",
       "      <td>1498.865657</td>\n",
       "    </tr>\n",
       "    <tr>\n",
       "      <th>3</th>\n",
       "      <td>4</td>\n",
       "      <td>India</td>\n",
       "      <td>1</td>\n",
       "      <td>Jammu And Kashmir</td>\n",
       "      <td>2</td>\n",
       "      <td>Budgam</td>\n",
       "      <td>2011</td>\n",
       "      <td>Urban</td>\n",
       "      <td>13136.00000</td>\n",
       "      <td>49.00000</td>\n",
       "      <td>27.000000</td>\n",
       "      <td>935.000000</td>\n",
       "      <td>24.00000</td>\n",
       "      <td>187.000000</td>\n",
       "      <td>30.000000</td>\n",
       "      <td>39.000000</td>\n",
       "      <td>11297.00000</td>\n",
       "      <td>454.000000</td>\n",
       "      <td>94.000000</td>\n",
       "    </tr>\n",
       "    <tr>\n",
       "      <th>4</th>\n",
       "      <td>5</td>\n",
       "      <td>India</td>\n",
       "      <td>1</td>\n",
       "      <td>Jammu And Kashmir</td>\n",
       "      <td>3</td>\n",
       "      <td>Baramulla</td>\n",
       "      <td>2011</td>\n",
       "      <td>Rural</td>\n",
       "      <td>120312.42680</td>\n",
       "      <td>410.81773</td>\n",
       "      <td>173.029734</td>\n",
       "      <td>19207.721280</td>\n",
       "      <td>3227.85131</td>\n",
       "      <td>12552.561110</td>\n",
       "      <td>5479.865635</td>\n",
       "      <td>1740.308367</td>\n",
       "      <td>72686.95889</td>\n",
       "      <td>2118.178401</td>\n",
       "      <td>2715.134343</td>\n",
       "    </tr>\n",
       "  </tbody>\n",
       "</table>\n",
       "</div>"
      ],
      "text/plain": [
       "   Rowid Country  State lgd code              State  District lgd code  \\\n",
       "0      1   India               1  Jammu And Kashmir                  1   \n",
       "1      2   India               1  Jammu And Kashmir                  1   \n",
       "2      3   India               1  Jammu And Kashmir                  2   \n",
       "3      4   India               1  Jammu And Kashmir                  2   \n",
       "4      5   India               1  Jammu And Kashmir                  3   \n",
       "\n",
       "    District  Year Type of residence namely rural or urban  \\\n",
       "0   Anantnag  2011                                   Rural   \n",
       "1   Anantnag  2011                                   Urban   \n",
       "2     Budgam  2011                                   Rural   \n",
       "3     Budgam  2011                                   Urban   \n",
       "4  Baramulla  2011                                   Rural   \n",
       "\n",
       "   Number of census houses  \\\n",
       "0             109465.00000   \n",
       "1              33522.00000   \n",
       "2              85561.57321   \n",
       "3              13136.00000   \n",
       "4             120312.42680   \n",
       "\n",
       "   Houses having grass or thatch or bamboo etc. as material of wall  \\\n",
       "0                                          270.00000                  \n",
       "1                                           69.00000                  \n",
       "2                                          134.18227                  \n",
       "3                                           49.00000                  \n",
       "4                                          410.81773                  \n",
       "\n",
       "   Houses having plastic or polythene as material of wall  \\\n",
       "0                                        1331.000000        \n",
       "1                                         121.000000        \n",
       "2                                         168.970266        \n",
       "3                                          27.000000        \n",
       "4                                         173.029734        \n",
       "\n",
       "   Houses having mud or unburnt brick as material of wall  \\\n",
       "0                                       22710.000000        \n",
       "1                                        6807.000000        \n",
       "2                                        7174.278724        \n",
       "3                                         935.000000        \n",
       "4                                       19207.721280        \n",
       "\n",
       "   Houses having wood as material of wall  \\\n",
       "0                              3014.00000   \n",
       "1                               123.00000   \n",
       "2                               960.14869   \n",
       "3                                24.00000   \n",
       "4                              3227.85131   \n",
       "\n",
       "   Houses having stone not packed with mortar as material of wall  \\\n",
       "0                                        3034.000000                \n",
       "1                                         268.000000                \n",
       "2                                         748.438886                \n",
       "3                                         187.000000                \n",
       "4                                       12552.561110                \n",
       "\n",
       "   Houses having stone packed with mortar as material of wall  \\\n",
       "0                                         480.000000            \n",
       "1                                          93.000000            \n",
       "2                                         306.134365            \n",
       "3                                          30.000000            \n",
       "4                                        5479.865635            \n",
       "\n",
       "   Houses having galvanized iron (gi) sheets or metal or asbestos sheets as material of wall  \\\n",
       "0                                         229.000000                                           \n",
       "1                                          98.000000                                           \n",
       "2                                         214.691633                                           \n",
       "3                                          39.000000                                           \n",
       "4                                        1740.308367                                           \n",
       "\n",
       "   Houses having burnt brick as material of wall  \\\n",
       "0                                    76229.00000   \n",
       "1                                    23789.00000   \n",
       "2                                    73342.04111   \n",
       "3                                    11297.00000   \n",
       "4                                    72686.95889   \n",
       "\n",
       "   Houses having concrete as material of wall  \\\n",
       "0                                 1400.000000   \n",
       "1                                 1894.000000   \n",
       "2                                 1013.821599   \n",
       "3                                  454.000000   \n",
       "4                                 2118.178401   \n",
       "\n",
       "   Houses having any other material of wall  \n",
       "0                                768.000000  \n",
       "1                                260.000000  \n",
       "2                               1498.865657  \n",
       "3                                 94.000000  \n",
       "4                               2715.134343  "
      ]
     },
     "execution_count": 7,
     "metadata": {},
     "output_type": "execute_result"
    }
   ],
   "source": [
    "data.head()"
   ]
  },
  {
   "cell_type": "code",
   "execution_count": 8,
   "id": "80c00efc",
   "metadata": {},
   "outputs": [],
   "source": [
    "rec = (data[data.columns[11]]/data[data.columns[8]])*100"
   ]
  },
  {
   "cell_type": "code",
   "execution_count": 44,
   "id": "3df4ea8e",
   "metadata": {},
   "outputs": [
    {
     "data": {
      "text/plain": [
       "0    20.746357\n",
       "1    20.306068\n",
       "2     8.384931\n",
       "3     7.117844\n",
       "4    15.964869\n",
       "dtype: float64"
      ]
     },
     "execution_count": 44,
     "metadata": {},
     "output_type": "execute_result"
    }
   ],
   "source": [
    "rec.head()"
   ]
  },
  {
   "cell_type": "code",
   "execution_count": 9,
   "id": "ce1b1121",
   "metadata": {},
   "outputs": [
    {
     "data": {
      "text/plain": [
       "30246.588759404032"
      ]
     },
     "execution_count": 9,
     "metadata": {},
     "output_type": "execute_result"
    }
   ],
   "source": [
    "np.sum(rec)"
   ]
  },
  {
   "cell_type": "code",
   "execution_count": 16,
   "id": "9b236f91",
   "metadata": {
    "scrolled": true
   },
   "outputs": [
    {
     "data": {
      "image/png": "[encoded data removed]",
      "text/plain": [
       "<Figure size 432x288 with 1 Axes>"
      ]
     },
     "metadata": {
      "needs_background": "light"
     },
     "output_type": "display_data"
    }
   ],
   "source": [
    "stats.probplot(rec, dist = \"norm\", plot = plt ) # Plots the q-q plot for normal distribution\n",
    "plt.title(\"Normal q-q plot\")\n",
    "plt.show()"
   ]
  },
  {
   "cell_type": "code",
   "execution_count": 17,
   "id": "8066dd51",
   "metadata": {},
   "outputs": [
    {
     "data": {
      "image/png": "[encoded data removed]",
      "text/plain": [
       "<Figure size 432x288 with 1 Axes>"
      ]
     },
     "metadata": {
      "needs_background": "light"
     },
     "output_type": "display_data"
    }
   ],
   "source": [
    "stats.probplot(rec, dist = \"uniform\", plot = plt ) # Plots the qq plot for uniform distribution\n",
    "plt.title(\"Uniform qq plot\")\n",
    "plt.show()"
   ]
  },
  {
   "cell_type": "code",
   "execution_count": 45,
   "id": "33d46ada",
   "metadata": {},
   "outputs": [
    {
     "data": {
      "text/plain": [
       "0   -0.010240\n",
       "1   -0.031254\n",
       "2   -0.600220\n",
       "3   -0.660695\n",
       "4   -0.238448\n",
       "dtype: float64"
      ]
     },
     "execution_count": 45,
     "metadata": {},
     "output_type": "execute_result"
    }
   ],
   "source": [
    "mec = (rec - np.mean(rec))/np.std(rec)\n",
    "mec.head()"
   ]
  },
  {
   "cell_type": "code",
   "execution_count": 47,
   "id": "4a86d2e7",
   "metadata": {},
   "outputs": [
    {
     "data": {
      "image/png": "[encoded data removed]",
      "text/plain": [
       "<Figure size 432x288 with 1 Axes>"
      ]
     },
     "metadata": {
      "needs_background": "light"
     },
     "output_type": "display_data"
    }
   ],
   "source": [
    "stats.probplot(mec, dist = \"norm\", plot = plt)\n",
    "plt.title('Normalized qq_plot')\n",
    "plt.show()"
   ]
  },
  {
   "cell_type": "markdown",
   "id": "6cb222be",
   "metadata": {},
   "source": [
    "Uniform distribution seems a better fit than normal distribution as points on the data are closer to the uniform distribution."
   ]
  },
  {
   "cell_type": "code",
   "execution_count": 15,
   "id": "d8397d04",
   "metadata": {},
   "outputs": [
    {
     "data": {
      "text/plain": [
       "((array([-3.97862997, -3.7624649 , -3.64418052, ...,  3.64418052,\n",
       "          3.7624649 ,  3.97862997]),\n",
       "  array([-269.45487417, -267.62805007, -264.1551707 , ...,  477.30459309,\n",
       "          477.85954922,  481.18905242])),\n",
       " (99.71972651406416, 89.32327198557753, 0.9999582994513753))"
      ]
     },
     "execution_count": 15,
     "metadata": {},
     "output_type": "execute_result"
    },
    {
     "data": {
      "image/png": "[encoded data removed]",
      "text/plain": [
       "<Figure size 432x288 with 1 Axes>"
      ]
     },
     "metadata": {
      "needs_background": "light"
     },
     "output_type": "display_data"
    }
   ],
   "source": [
    "# Checking the qqplot for a two normal distributions\n",
    "z = np.random.normal(90, 100, 20000) \n",
    "stats.probplot(z, dist = \"norm\", plot = plt)"
   ]
  },
  {
   "cell_type": "markdown",
   "id": "499d0386",
   "metadata": {},
   "source": [
    "References:\n",
    "https://towardsdatascience.com/q-q-plots-explained-5aa8495426c0"
   ]
  },
  {
   "cell_type": "code",
   "execution_count": 20,
   "id": "291da627",
   "metadata": {},
   "outputs": [
    {
     "name": "stdout",
     "output_type": "stream",
     "text": [
      "The mean is: 20.960906971173966\n",
      "The standard deviation is:20.952282985047443\n"
     ]
    }
   ],
   "source": [
    "# For gaussian distribution the MLE estimates are mean and standard deviation of the data\n",
    "mean = np.mean(rec) # Calculates the mean of the data\n",
    "std = np.std(rec) # Calculates the standard deviation of the data\n",
    "print('The mean is: ' + str(mean))\n",
    "print('The standard deviation is:' + str(std))"
   ]
  },
  {
   "cell_type": "code",
   "execution_count": 21,
   "id": "05ebd8b2",
   "metadata": {},
   "outputs": [
    {
     "name": "stdout",
     "output_type": "stream",
     "text": [
      "Minimum is: 0.0\n",
      "Maximum is: 96.46082059155783\n"
     ]
    }
   ],
   "source": [
    "# For uniform distribution the MLE estimates are the min and maximum data points\n",
    "rec_min = np.min(rec)\n",
    "rec_max = np.max(rec)\n",
    "print('Minimum is: '+ str(rec_min))\n",
    "print('Maximum is: '+ str(rec_max))"
   ]
  },
  {
   "cell_type": "code",
   "execution_count": 23,
   "id": "6f7d9b7c",
   "metadata": {},
   "outputs": [
    {
     "data": {
      "text/plain": [
       "(1473,)"
      ]
     },
     "execution_count": 23,
     "metadata": {},
     "output_type": "execute_result"
    }
   ],
   "source": [
    "rec.shape"
   ]
  },
  {
   "cell_type": "code",
   "execution_count": 36,
   "id": "1727c49b",
   "metadata": {},
   "outputs": [
    {
     "name": "stdout",
     "output_type": "stream",
     "text": [
      "Log-likelihood for gaussian distribution: nan\n",
      "Log-likelihood for uniform distribution: -6730.338685620418\n"
     ]
    }
   ],
   "source": [
    "# We can check this by calculating the log-likelihood of both distributions\n",
    "gaussian_LL = 0\n",
    "for i in range(len(rec)):\n",
    "    gaussian_LL += np.log(np.exp(-((rec[i] - mean)/std)**2/2)/(std*np.sqrt(2*np.pi)))\n",
    "uniform_LL = len(rec)*np.log(1/(rec_max-rec_min))\n",
    "print('Log-likelihood for gaussian distribution: ' + str(gaussian_LL))\n",
    "print('Log-likelihood for uniform distribution: ' + str(uniform_LL))"
   ]
  },
  {
   "cell_type": "code",
   "execution_count": 60,
   "id": "4eddd1d6",
   "metadata": {},
   "outputs": [],
   "source": [
    "def qq_plot(data,n):\n",
    "    data_sorted = np.sort(data)\n",
    "    data_quantiles = []\n",
    "    for i in range(n):\n",
    "        data_quantiles.append(data[int(i*len(data)/n)]) # Plotting the quantiles, just using the sorted distribution to get quantiles\n",
    "    theory_quantiles = []\n",
    "    for i in range(n):\n",
    "        if i/n <= 1/2:\n",
    "            theory_quantiles.append(-1+np.sqrt(2*i/n)) # Obtained by finding the values for different probabilities\n",
    "        else:\n",
    "            theory_quantiles.append(1-np.sqrt(2*(1-i/n)))                                                           \n",
    "    plt.scatter(np.sort(theory_quantiles),np.sort(data_quantiles))\n",
    "    plt.xlabel('Theory_quantiles')\n",
    "    plt.ylabel('data_quantiles')\n",
    "    plt.show()\n",
    "    "
   ]
  },
  {
   "cell_type": "code",
   "execution_count": 61,
   "id": "93955f32",
   "metadata": {},
   "outputs": [
    {
     "data": {
      "image/png": "[encoded data removed]",
      "text/plain": [
       "<Figure size 432x288 with 1 Axes>"
      ]
     },
     "metadata": {
      "needs_background": "light"
     },
     "output_type": "display_data"
    }
   ],
   "source": [
    "qq_plot(rec,121)"
   ]
  },
  {
   "cell_type": "code",
   "execution_count": null,
   "id": "17872a91",
   "metadata": {},
   "outputs": [],
   "source": [
    "# Introducing shifting and scaling parameters\n",
    "def qq_plot(data,n, scale, shift):\n",
    "    data_sorted = np.sort(data)\n",
    "    data_quantiles = []\n",
    "    for i in range(n):\n",
    "        data_quantiles.append(data[int(i*len(data)/n)]) # Plotting the quantiles, just using the sorted distribution to get quantiles\n",
    "    theory_quantiles = []\n",
    "    for i in range(n):\n",
    "        if i/n <= 1/2:\n",
    "            theory_quantiles.append(-1+np.sqrt(2*i/n)) # Obtained by finding the values for different probabilities\n",
    "        else:\n",
    "            theory_quantiles.append(1-np.sqrt(2*(1-i/n)))                                                           \n",
    "    plt.scatter(np.sort(theory_quantiles),np.sort(data_quantiles))\n",
    "    plt.xlabel('Theory_quantiles')\n",
    "    plt.ylabel('data_quantiles')\n",
    "    plt.show()"
   ]
  },
  {
   "cell_type": "code",
   "execution_count": 89,
   "id": "a09ab43e",
   "metadata": {},
   "outputs": [],
   "source": [
    "# 3 question's first part\n",
    "# Using welch's ttest to determine the relation between the percentages between rural and urban areas\n",
    "from itertools import combinations\n",
    "def all_pairwise(df, cols, compare_col = 'decade'):\n",
    "    decade_pairs = [(i,j) for i, j in combinations(df[compare_col].unique().tolist(), 2)]\n",
    "    # or add a list of colnames to function signature\n",
    "    list_of_dfs = []\n",
    "    for pair in decade_pairs:\n",
    "        for col in cols:\n",
    "            c1 = df[df[compare_col] == pair[0]][col]\n",
    "            c2 = df[df[compare_col] == pair[1]][col]\n",
    "            results = stats.ttest_ind(c1, c2, nan_policy='omit')\n",
    "            tmp = pd.DataFrame({'dec1': pair[0],\n",
    "                                'dec2': pair[1],\n",
    "                                'tstat': results.statistic,\n",
    "                                'pvalue': results.pvalue}, index = [col])\n",
    "            list_of_dfs.append(tmp)\n",
    "    df_stats = pd.concat(list_of_dfs)\n",
    "    return df_stats\n"
   ]
  },
  {
   "cell_type": "code",
   "execution_count": 80,
   "id": "923ac451",
   "metadata": {},
   "outputs": [
    {
     "data": {
      "text/html": [
       "<div>\n",
       "<style scoped>\n",
       "    .dataframe tbody tr th:only-of-type {\n",
       "        vertical-align: middle;\n",
       "    }\n",
       "\n",
       "    .dataframe tbody tr th {\n",
       "        vertical-align: top;\n",
       "    }\n",
       "\n",
       "    .dataframe thead th {\n",
       "        text-align: right;\n",
       "    }\n",
       "</style>\n",
       "<table border=\"1\" class=\"dataframe\">\n",
       "  <thead>\n",
       "    <tr style=\"text-align: right;\">\n",
       "      <th></th>\n",
       "      <th>Type of residence namely rural or urban</th>\n",
       "      <th>0</th>\n",
       "    </tr>\n",
       "  </thead>\n",
       "  <tbody>\n",
       "    <tr>\n",
       "      <th>0</th>\n",
       "      <td>Rural</td>\n",
       "      <td>20.746357</td>\n",
       "    </tr>\n",
       "    <tr>\n",
       "      <th>1</th>\n",
       "      <td>Urban</td>\n",
       "      <td>20.306068</td>\n",
       "    </tr>\n",
       "    <tr>\n",
       "      <th>2</th>\n",
       "      <td>Rural</td>\n",
       "      <td>8.384931</td>\n",
       "    </tr>\n",
       "    <tr>\n",
       "      <th>3</th>\n",
       "      <td>Urban</td>\n",
       "      <td>7.117844</td>\n",
       "    </tr>\n",
       "    <tr>\n",
       "      <th>4</th>\n",
       "      <td>Rural</td>\n",
       "      <td>15.964869</td>\n",
       "    </tr>\n",
       "    <tr>\n",
       "      <th>...</th>\n",
       "      <td>...</td>\n",
       "      <td>...</td>\n",
       "    </tr>\n",
       "    <tr>\n",
       "      <th>1468</th>\n",
       "      <td>Urban</td>\n",
       "      <td>1.005856</td>\n",
       "    </tr>\n",
       "    <tr>\n",
       "      <th>1469</th>\n",
       "      <td>Rural</td>\n",
       "      <td>0.924214</td>\n",
       "    </tr>\n",
       "    <tr>\n",
       "      <th>1470</th>\n",
       "      <td>Urban</td>\n",
       "      <td>0.113658</td>\n",
       "    </tr>\n",
       "    <tr>\n",
       "      <th>1471</th>\n",
       "      <td>Rural</td>\n",
       "      <td>13.948825</td>\n",
       "    </tr>\n",
       "    <tr>\n",
       "      <th>1472</th>\n",
       "      <td>Urban</td>\n",
       "      <td>4.427035</td>\n",
       "    </tr>\n",
       "  </tbody>\n",
       "</table>\n",
       "<p>1473 rows × 2 columns</p>\n",
       "</div>"
      ],
      "text/plain": [
       "     Type of residence namely rural or urban          0\n",
       "0                                      Rural  20.746357\n",
       "1                                      Urban  20.306068\n",
       "2                                      Rural   8.384931\n",
       "3                                      Urban   7.117844\n",
       "4                                      Rural  15.964869\n",
       "...                                      ...        ...\n",
       "1468                                   Urban   1.005856\n",
       "1469                                   Rural   0.924214\n",
       "1470                                   Urban   0.113658\n",
       "1471                                   Rural  13.948825\n",
       "1472                                   Urban   4.427035\n",
       "\n",
       "[1473 rows x 2 columns]"
      ]
     },
     "metadata": {},
     "output_type": "display_data"
    }
   ],
   "source": [
    "# the default behaviour is join='outer'\n",
    "# inner join\n",
    "  \n",
    "result = pd.concat([data['Type of residence namely rural or urban'], rec], axis=1, join='inner')\n",
    "display(result)"
   ]
  },
  {
   "cell_type": "code",
   "execution_count": 82,
   "id": "308badf4",
   "metadata": {},
   "outputs": [
    {
     "data": {
      "text/plain": [
       "array(['Type of residence namely rural or urban', 0], dtype=object)"
      ]
     },
     "execution_count": 82,
     "metadata": {},
     "output_type": "execute_result"
    }
   ],
   "source": [
    "result.columns.values"
   ]
  },
  {
   "cell_type": "code",
   "execution_count": 85,
   "id": "4c798575",
   "metadata": {},
   "outputs": [],
   "source": [
    "result.rename(columns = {0:'percent_mud'}, inplace = True)"
   ]
  },
  {
   "cell_type": "code",
   "execution_count": 86,
   "id": "7da6bb39",
   "metadata": {},
   "outputs": [
    {
     "data": {
      "text/plain": [
       "Index(['Type of residence namely rural or urban', 'percent_mud'], dtype='object')"
      ]
     },
     "execution_count": 86,
     "metadata": {},
     "output_type": "execute_result"
    }
   ],
   "source": [
    "result.columns"
   ]
  },
  {
   "cell_type": "code",
   "execution_count": 90,
   "id": "5a8a89bc",
   "metadata": {},
   "outputs": [
    {
     "data": {
      "text/html": [
       "<div>\n",
       "<style scoped>\n",
       "    .dataframe tbody tr th:only-of-type {\n",
       "        vertical-align: middle;\n",
       "    }\n",
       "\n",
       "    .dataframe tbody tr th {\n",
       "        vertical-align: top;\n",
       "    }\n",
       "\n",
       "    .dataframe thead th {\n",
       "        text-align: right;\n",
       "    }\n",
       "</style>\n",
       "<table border=\"1\" class=\"dataframe\">\n",
       "  <thead>\n",
       "    <tr style=\"text-align: right;\">\n",
       "      <th></th>\n",
       "      <th>dec1</th>\n",
       "      <th>dec2</th>\n",
       "      <th>tstat</th>\n",
       "      <th>pvalue</th>\n",
       "    </tr>\n",
       "  </thead>\n",
       "  <tbody>\n",
       "    <tr>\n",
       "      <th>percent_mud</th>\n",
       "      <td>Rural</td>\n",
       "      <td>Urban</td>\n",
       "      <td>14.533887</td>\n",
       "      <td>9.205005e-45</td>\n",
       "    </tr>\n",
       "  </tbody>\n",
       "</table>\n",
       "</div>"
      ],
      "text/plain": [
       "              dec1   dec2      tstat        pvalue\n",
       "percent_mud  Rural  Urban  14.533887  9.205005e-45"
      ]
     },
     "execution_count": 90,
     "metadata": {},
     "output_type": "execute_result"
    }
   ],
   "source": [
    "df_stats = all_pairwise(result,['percent_mud'], compare_col = 'Type of residence namely rural or urban')\n",
    "df_stats"
   ]
  },
  {
   "cell_type": "code",
   "execution_count": 91,
   "id": "10e6ad82",
   "metadata": {},
   "outputs": [
    {
     "data": {
      "text/plain": [
       "Rowid                                                                                          int64\n",
       "Country                                                                                       object\n",
       "State lgd code                                                                                 int64\n",
       "State                                                                                         object\n",
       "District lgd code                                                                              int64\n",
       "District                                                                                      object\n",
       "Year                                                                                           int64\n",
       "Type of residence namely rural or urban                                                       object\n",
       "Number of census houses                                                                      float64\n",
       "Houses having grass or thatch or bamboo etc. as material of wall                             float64\n",
       "Houses having plastic or polythene as material of wall                                       float64\n",
       "Houses having mud or unburnt brick as material of wall                                       float64\n",
       "Houses having wood as material of wall                                                       float64\n",
       "Houses having stone not packed with mortar as material of wall                               float64\n",
       "Houses having stone packed with mortar as material of wall                                   float64\n",
       "Houses having galvanized iron (gi) sheets or metal or asbestos sheets as material of wall    float64\n",
       "Houses having burnt brick as material of wall                                                float64\n",
       "Houses having concrete as material of wall                                                   float64\n",
       "Houses having any other material of wall                                                     float64\n",
       "dtype: object"
      ]
     },
     "execution_count": 91,
     "metadata": {},
     "output_type": "execute_result"
    }
   ],
   "source": [
    "data.dtypes"
   ]
  },
  {
   "cell_type": "code",
   "execution_count": 92,
   "id": "d1471f90",
   "metadata": {},
   "outputs": [
    {
     "name": "stdout",
     "output_type": "stream",
     "text": [
      "Pearsons correlation: 0.201\n"
     ]
    }
   ],
   "source": [
    "# For the 2 part of # question I will use correlation test to determine if there is any corelation between percentages of mud or unburnt houses and others or not\n",
    "# If there is no correlation than I can't use that to tell percentages of unburnt or mud houses using others columns\n",
    "from scipy.stats import pearsonr \n",
    "\n",
    "# Convert dataframe into series\n",
    "list1 = data['Houses having mud or unburnt brick as material of wall']\n",
    "list2 = data['Houses having any other material of wall']\n",
    " \n",
    "# Apply the pearsonr()\n",
    "corr, _ = pearsonr(list1, list2)\n",
    "print('Pearsons correlation: %.3f' % corr)"
   ]
  },
  {
   "cell_type": "markdown",
   "id": "2d6c7921",
   "metadata": {},
   "source": [
    "The correlation between them is strong enough so we cac't conclude anything solid about the percentages of mud or unburnt houses using the others column."
   ]
  },
  {
   "cell_type": "code",
   "execution_count": 66,
   "id": "527baaec",
   "metadata": {},
   "outputs": [
    {
     "data": {
      "text/html": [
       "<div>\n",
       "<style scoped>\n",
       "    .dataframe tbody tr th:only-of-type {\n",
       "        vertical-align: middle;\n",
       "    }\n",
       "\n",
       "    .dataframe tbody tr th {\n",
       "        vertical-align: top;\n",
       "    }\n",
       "\n",
       "    .dataframe thead th {\n",
       "        text-align: right;\n",
       "    }\n",
       "</style>\n",
       "<table border=\"1\" class=\"dataframe\">\n",
       "  <thead>\n",
       "    <tr style=\"text-align: right;\">\n",
       "      <th></th>\n",
       "      <th>symboling</th>\n",
       "      <th>normalized-losses</th>\n",
       "      <th>make</th>\n",
       "      <th>fuel-type</th>\n",
       "      <th>aspiration</th>\n",
       "      <th>num-of-doors</th>\n",
       "      <th>body-style</th>\n",
       "      <th>drive-wheels</th>\n",
       "      <th>engine-location</th>\n",
       "      <th>wheel-base</th>\n",
       "      <th>...</th>\n",
       "      <th>engine-size</th>\n",
       "      <th>fuel-system</th>\n",
       "      <th>bore</th>\n",
       "      <th>stroke</th>\n",
       "      <th>compression-ratio</th>\n",
       "      <th>horsepower</th>\n",
       "      <th>peak-rpm</th>\n",
       "      <th>city-mpg</th>\n",
       "      <th>highway-mpg</th>\n",
       "      <th>price</th>\n",
       "    </tr>\n",
       "  </thead>\n",
       "  <tbody>\n",
       "    <tr>\n",
       "      <th>0</th>\n",
       "      <td>3</td>\n",
       "      <td>?</td>\n",
       "      <td>alfa-romero</td>\n",
       "      <td>gas</td>\n",
       "      <td>std</td>\n",
       "      <td>two</td>\n",
       "      <td>convertible</td>\n",
       "      <td>rwd</td>\n",
       "      <td>front</td>\n",
       "      <td>88.6</td>\n",
       "      <td>...</td>\n",
       "      <td>130</td>\n",
       "      <td>mpfi</td>\n",
       "      <td>3.47</td>\n",
       "      <td>2.68</td>\n",
       "      <td>9.0</td>\n",
       "      <td>111</td>\n",
       "      <td>5000</td>\n",
       "      <td>21</td>\n",
       "      <td>27</td>\n",
       "      <td>13495</td>\n",
       "    </tr>\n",
       "    <tr>\n",
       "      <th>1</th>\n",
       "      <td>3</td>\n",
       "      <td>?</td>\n",
       "      <td>alfa-romero</td>\n",
       "      <td>gas</td>\n",
       "      <td>std</td>\n",
       "      <td>two</td>\n",
       "      <td>convertible</td>\n",
       "      <td>rwd</td>\n",
       "      <td>front</td>\n",
       "      <td>88.6</td>\n",
       "      <td>...</td>\n",
       "      <td>130</td>\n",
       "      <td>mpfi</td>\n",
       "      <td>3.47</td>\n",
       "      <td>2.68</td>\n",
       "      <td>9.0</td>\n",
       "      <td>111</td>\n",
       "      <td>5000</td>\n",
       "      <td>21</td>\n",
       "      <td>27</td>\n",
       "      <td>16500</td>\n",
       "    </tr>\n",
       "    <tr>\n",
       "      <th>2</th>\n",
       "      <td>1</td>\n",
       "      <td>?</td>\n",
       "      <td>alfa-romero</td>\n",
       "      <td>gas</td>\n",
       "      <td>std</td>\n",
       "      <td>two</td>\n",
       "      <td>hatchback</td>\n",
       "      <td>rwd</td>\n",
       "      <td>front</td>\n",
       "      <td>94.5</td>\n",
       "      <td>...</td>\n",
       "      <td>152</td>\n",
       "      <td>mpfi</td>\n",
       "      <td>2.68</td>\n",
       "      <td>3.47</td>\n",
       "      <td>9.0</td>\n",
       "      <td>154</td>\n",
       "      <td>5000</td>\n",
       "      <td>19</td>\n",
       "      <td>26</td>\n",
       "      <td>16500</td>\n",
       "    </tr>\n",
       "    <tr>\n",
       "      <th>3</th>\n",
       "      <td>2</td>\n",
       "      <td>164</td>\n",
       "      <td>audi</td>\n",
       "      <td>gas</td>\n",
       "      <td>std</td>\n",
       "      <td>four</td>\n",
       "      <td>sedan</td>\n",
       "      <td>fwd</td>\n",
       "      <td>front</td>\n",
       "      <td>99.8</td>\n",
       "      <td>...</td>\n",
       "      <td>109</td>\n",
       "      <td>mpfi</td>\n",
       "      <td>3.19</td>\n",
       "      <td>3.4</td>\n",
       "      <td>10.0</td>\n",
       "      <td>102</td>\n",
       "      <td>5500</td>\n",
       "      <td>24</td>\n",
       "      <td>30</td>\n",
       "      <td>13950</td>\n",
       "    </tr>\n",
       "    <tr>\n",
       "      <th>4</th>\n",
       "      <td>2</td>\n",
       "      <td>164</td>\n",
       "      <td>audi</td>\n",
       "      <td>gas</td>\n",
       "      <td>std</td>\n",
       "      <td>four</td>\n",
       "      <td>sedan</td>\n",
       "      <td>4wd</td>\n",
       "      <td>front</td>\n",
       "      <td>99.4</td>\n",
       "      <td>...</td>\n",
       "      <td>136</td>\n",
       "      <td>mpfi</td>\n",
       "      <td>3.19</td>\n",
       "      <td>3.4</td>\n",
       "      <td>8.0</td>\n",
       "      <td>115</td>\n",
       "      <td>5500</td>\n",
       "      <td>18</td>\n",
       "      <td>22</td>\n",
       "      <td>17450</td>\n",
       "    </tr>\n",
       "  </tbody>\n",
       "</table>\n",
       "<p>5 rows × 26 columns</p>\n",
       "</div>"
      ],
      "text/plain": [
       "   symboling normalized-losses         make fuel-type aspiration num-of-doors  \\\n",
       "0          3                 ?  alfa-romero       gas        std          two   \n",
       "1          3                 ?  alfa-romero       gas        std          two   \n",
       "2          1                 ?  alfa-romero       gas        std          two   \n",
       "3          2               164         audi       gas        std         four   \n",
       "4          2               164         audi       gas        std         four   \n",
       "\n",
       "    body-style drive-wheels engine-location  wheel-base  ...  engine-size  \\\n",
       "0  convertible          rwd           front        88.6  ...          130   \n",
       "1  convertible          rwd           front        88.6  ...          130   \n",
       "2    hatchback          rwd           front        94.5  ...          152   \n",
       "3        sedan          fwd           front        99.8  ...          109   \n",
       "4        sedan          4wd           front        99.4  ...          136   \n",
       "\n",
       "   fuel-system  bore  stroke compression-ratio horsepower  peak-rpm city-mpg  \\\n",
       "0         mpfi  3.47    2.68               9.0        111      5000       21   \n",
       "1         mpfi  3.47    2.68               9.0        111      5000       21   \n",
       "2         mpfi  2.68    3.47               9.0        154      5000       19   \n",
       "3         mpfi  3.19     3.4              10.0        102      5500       24   \n",
       "4         mpfi  3.19     3.4               8.0        115      5500       18   \n",
       "\n",
       "  highway-mpg  price  \n",
       "0          27  13495  \n",
       "1          27  16500  \n",
       "2          26  16500  \n",
       "3          30  13950  \n",
       "4          22  17450  \n",
       "\n",
       "[5 rows x 26 columns]"
      ]
     },
     "execution_count": 66,
     "metadata": {},
     "output_type": "execute_result"
    }
   ],
   "source": [
    "# Question 3 part 3\n",
    "auto = pd.read_csv(\"../Automobile_data.csv\")\n",
    "auto.head()"
   ]
  },
  {
   "cell_type": "code",
   "execution_count": 71,
   "id": "a88bfe01",
   "metadata": {},
   "outputs": [],
   "source": [
    "body_style = auto['body-style'].unique()"
   ]
  },
  {
   "cell_type": "code",
   "execution_count": 72,
   "id": "d0c8f852",
   "metadata": {},
   "outputs": [],
   "source": [
    "drive_wheels = auto['drive-wheels'].unique()"
   ]
  },
  {
   "cell_type": "code",
   "execution_count": 73,
   "id": "078cbefa",
   "metadata": {},
   "outputs": [],
   "source": [
    "j = 0\n",
    "for i in body_style:\n",
    "    auto['body-style'] = auto['body-style'].replace(to_replace = i, value = float(j))\n",
    "    j += 1\n"
   ]
  },
  {
   "cell_type": "code",
   "execution_count": 74,
   "id": "0ddc32ff",
   "metadata": {},
   "outputs": [],
   "source": [
    "k = 0\n",
    "for i in drive_wheels:\n",
    "    auto['drive-wheels'] = auto['drive-wheels'].replace(to_replace = i, value = float(k))\n",
    "    k += 1"
   ]
  },
  {
   "cell_type": "code",
   "execution_count": 76,
   "id": "a2a6e694",
   "metadata": {},
   "outputs": [
    {
     "name": "stdout",
     "output_type": "stream",
     "text": [
      "Pearsons correlation: -0.057\n"
     ]
    }
   ],
   "source": [
    "# Part 3, last question\n",
    "from scipy.stats import pearsonr \n",
    "\n",
    "# Convert dataframe into series\n",
    "list1 = auto['body-style']\n",
    "list2 = auto['drive-wheels']\n",
    " \n",
    "# Apply the pearsonr()\n",
    "corr, _ = pearsonr(list1, list2)\n",
    "print('Pearsons correlation: %.3f' % corr)"
   ]
  },
  {
   "cell_type": "markdown",
   "id": "42c7fe95",
   "metadata": {},
   "source": [
    "They are barely related in inverse manner."
   ]
  },
  {
   "cell_type": "code",
   "execution_count": null,
   "id": "302d5a6e",
   "metadata": {},
   "outputs": [],
   "source": []
  }
 ],
 "metadata": {
  "kernelspec": {
   "display_name": "Python 3 (ipykernel)",
   "language": "python",
   "name": "python3"
  },
  "language_info": {
   "codemirror_mode": {
    "name": "ipython",
    "version": 3
   },
   "file_extension": ".py",
   "mimetype": "text/x-python",
   "name": "python",
   "nbconvert_exporter": "python",
   "pygments_lexer": "ipython3",
   "version": "3.10.4"
  }
 },
 "nbformat": 4,
 "nbformat_minor": 5
}
